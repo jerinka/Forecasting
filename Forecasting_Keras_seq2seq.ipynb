{
 "cells": [
  {
   "cell_type": "code",
   "execution_count": 1,
   "metadata": {},
   "outputs": [],
   "source": [
    "#!pip install pydot"
   ]
  },
  {
   "cell_type": "code",
   "execution_count": 2,
   "metadata": {},
   "outputs": [],
   "source": [
    "import random\n",
    "import numpy as np\n",
    "import matplotlib.pyplot as plt\n",
    "import pickle as pkl\n",
    "import keras\n",
    "from keras.models import Sequential, Model, load_model\n",
    "from keras.layers import LSTM, Dense, RepeatVector, TimeDistributed, Input, BatchNormalization, \\\n",
    "    multiply, concatenate, Flatten, Activation, dot\n",
    "from keras.optimizers import Adam\n",
    "from keras.utils import plot_model\n",
    "from keras.callbacks import EarlyStopping\n",
    "\n",
    "import pydot as pyd\n",
    "from keras.utils.vis_utils import plot_model, model_to_dot\n",
    "keras.utils.vis_utils.pydot = pyd"
   ]
  },
  {
   "cell_type": "markdown",
   "metadata": {},
   "source": [
    "# Read Data"
   ]
  },
  {
   "cell_type": "code",
   "execution_count": 3,
   "metadata": {},
   "outputs": [],
   "source": [
    "data = pkl.load(open('data.pkl', 'rb'))\n",
    "\n",
    "X_input_train = data['X_input_train']\n",
    "X_output_train1 = data['X_output_train']\n",
    "X_input_test = data['X_input_test']\n",
    "X_output_test1 = data['X_output_test']\n",
    "\n",
    "x1_trend_param = 1\n",
    "x2_trend_param = 1\n",
    "x_train_max = data['x_train_max']\n",
    "\n",
    "X_output_train = np.expand_dims(X_output_train1, axis=-1)\n",
    "X_output_test  = np.expand_dims(X_output_test1, axis=-1)"
   ]
  },
  {
   "cell_type": "code",
   "execution_count": 4,
   "metadata": {},
   "outputs": [
    {
     "name": "stdout",
     "output_type": "stream",
     "text": [
      "X_input_train (1362, 100, 84) X_output_train (1362, 20, 1) X_input_test (347, 100, 84) X_output_test (347, 20, 1) x_train_max (84,)\n"
     ]
    }
   ],
   "source": [
    "print('X_input_train', X_input_train.shape, \n",
    "          'X_output_train', X_output_train.shape, \n",
    "          'X_input_test', X_input_test.shape, \n",
    "          'X_output_test', X_output_test.shape, \n",
    "          'x_train_max', x_train_max.shape)"
   ]
  },
  {
   "cell_type": "code",
   "execution_count": 5,
   "metadata": {},
   "outputs": [
    {
     "data": {
      "text/plain": [
       "array([4.20720000e+02, 4.19740000e+02, 4.18920000e+02, 4.19460000e+02,\n",
       "       1.14344770e+09, 8.46102685e+01, 1.00000000e+02, 7.97153963e+00,\n",
       "       1.78827741e+00, 4.19265138e+02, 4.18171889e+02, 4.16945915e+02,\n",
       "       4.15109761e+02, 4.12305693e+02, 4.18205000e+02, 2.37960201e-01,\n",
       "       1.85394444e+01, 2.86006826e+02, 6.40035707e+01, 8.69640040e-01,\n",
       "       4.20720000e+02, 1.15867539e+01, 1.47341968e+01, 1.83995547e+01,\n",
       "       2.44547215e+01, 3.16049880e+01, 3.58120933e+01, 9.65641940e+00,\n",
       "       7.46548256e+00, 2.75136738e+10, 1.08255872e+10, 6.48751931e+08,\n",
       "       2.52205106e+01, 1.00000000e+02, 4.17604203e+02, 3.61300000e+01,\n",
       "       5.14749315e+01, 1.00000000e+02, 9.99188963e+01, 4.15835784e+02,\n",
       "       4.24994079e+02, 4.11713856e+02, 5.69519132e+01, 7.82000000e+01,\n",
       "       3.89000000e+01, 2.50000000e+01, 3.22000000e+01, 1.01000000e+02,\n",
       "       3.91000000e+01, 5.03000000e+01, 2.60000000e+00, 4.90000000e+00,\n",
       "       3.40000000e+00, 6.20000000e+00, 7.00000000e+00, 1.12000000e+01,\n",
       "       8.80000000e+00, 2.60000000e+00, 3.25600000e+02, 3.23900000e+02,\n",
       "       1.27000000e+01, 2.56000000e+01, 2.22000000e+01, 1.83000000e+01,\n",
       "       1.30000000e+00, 2.00000000e+00, 1.06000000e+01, 9.10000000e+00,\n",
       "       2.07000000e+01, 2.03000000e+01, 1.12000000e+01, 1.90000000e+00,\n",
       "       2.54000000e+01, 1.12000000e+01, 8.10000000e+00, 1.07000000e+01,\n",
       "       1.73703297e+01, 1.50000000e+00, 1.21000000e+01, 5.70000000e+00,\n",
       "       8.40000000e+00, 1.68800000e-01, 1.00000000e+00, 1.00000000e+00])"
      ]
     },
     "execution_count": 5,
     "metadata": {},
     "output_type": "execute_result"
    }
   ],
   "source": [
    "x_train_max"
   ]
  },
  {
   "cell_type": "code",
   "execution_count": 6,
   "metadata": {},
   "outputs": [
    {
     "data": {
      "text/plain": [
       "((1362, 100, 84), (1362, 20, 1))"
      ]
     },
     "execution_count": 6,
     "metadata": {},
     "output_type": "execute_result"
    }
   ],
   "source": [
    "X_input_train.shape, X_output_train.shape"
   ]
  },
  {
   "cell_type": "markdown",
   "metadata": {},
   "source": [
    "# Model\n",
    "[Image of Luong Attention](https://github.com/HuangWeiKulish/Forecasting/blob/master/seq2seq.png?raw=true)"
   ]
  },
  {
   "cell_type": "code",
   "execution_count": 7,
   "metadata": {},
   "outputs": [
    {
     "data": {
      "text/plain": [
       "(1362, 100, 84)"
      ]
     },
     "execution_count": 7,
     "metadata": {},
     "output_type": "execute_result"
    }
   ],
   "source": [
    "X_input_train.shape"
   ]
  },
  {
   "cell_type": "code",
   "execution_count": 8,
   "metadata": {},
   "outputs": [
    {
     "name": "stdout",
     "output_type": "stream",
     "text": [
      "KerasTensor(type_spec=TensorSpec(shape=(None, 100, 84), dtype=tf.float32, name='input_1'), name='input_1', description=\"created by layer 'input_1'\")\n",
      "KerasTensor(type_spec=TensorSpec(shape=(None, 20, 1), dtype=tf.float32, name='input_2'), name='input_2', description=\"created by layer 'input_2'\")\n"
     ]
    }
   ],
   "source": [
    "input_train = Input(shape=(X_input_train.shape[1], X_input_train.shape[2]))\n",
    "output_train = Input(shape=(X_output_train.shape[1], X_output_train.shape[2]))\n",
    "n_hidden = 100\n",
    "print(input_train)\n",
    "print(output_train)"
   ]
  },
  {
   "cell_type": "code",
   "execution_count": 9,
   "metadata": {},
   "outputs": [
    {
     "data": {
      "text/plain": [
       "(<KerasTensor: shape=(None, 100, 84) dtype=float32 (created by layer 'input_1')>,\n",
       " <KerasTensor: shape=(None, 20, 1) dtype=float32 (created by layer 'input_2')>)"
      ]
     },
     "execution_count": 9,
     "metadata": {},
     "output_type": "execute_result"
    }
   ],
   "source": [
    "input_train, output_train"
   ]
  },
  {
   "cell_type": "markdown",
   "metadata": {},
   "source": [
    "#### What to Return using LSTM\n",
    "- __*return_sequences=False, return_state=False*__: the last hidden state: state_h\n",
    "- __*return_sequences=True, return_state=False*__: return stacked hidden states (num_timesteps * num_cells): one hidden state output for each input time step\n",
    "- __*return_sequences=False, return_state=True*__: generate 3 arrays: state_h, state_h, state_c\n",
    "- __*return_sequences=True, return_state=True*__: generate 3 arrays: stacked hidden states, last state_h, last state_c"
   ]
  },
  {
   "cell_type": "code",
   "execution_count": 10,
   "metadata": {
    "scrolled": true
   },
   "outputs": [
    {
     "name": "stdout",
     "output_type": "stream",
     "text": [
      "KerasTensor(type_spec=TensorSpec(shape=(None, 100), dtype=tf.float32, name=None), name='lstm/strided_slice_3:0', description=\"created by layer 'lstm'\")\n",
      "KerasTensor(type_spec=TensorSpec(shape=(None, 100), dtype=tf.float32, name=None), name='lstm/while:4', description=\"created by layer 'lstm'\")\n",
      "KerasTensor(type_spec=TensorSpec(shape=(None, 100), dtype=tf.float32, name=None), name='lstm/while:5', description=\"created by layer 'lstm'\")\n"
     ]
    }
   ],
   "source": [
    "encoder_last_h1, encoder_last_h2, encoder_last_c = LSTM(\n",
    "    n_hidden, activation='elu', dropout=0.2, recurrent_dropout=0.2, \n",
    "    return_sequences=False, return_state=True)(input_train)\n",
    "print(encoder_last_h1)\n",
    "print(encoder_last_h2)\n",
    "print(encoder_last_c)"
   ]
  },
  {
   "cell_type": "code",
   "execution_count": 11,
   "metadata": {},
   "outputs": [
    {
     "name": "stdout",
     "output_type": "stream",
     "text": [
      "KerasTensor(type_spec=TensorSpec(shape=(None, 100), dtype=tf.float32, name=None), name='batch_normalization/batchnorm/add_1:0', description=\"created by layer 'batch_normalization'\")\n"
     ]
    }
   ],
   "source": [
    "encoder_last_h1 = BatchNormalization(momentum=0.6)(encoder_last_h1) \n",
    "print(encoder_last_h1)"
   ]
  },
  {
   "cell_type": "code",
   "execution_count": 12,
   "metadata": {},
   "outputs": [
    {
     "name": "stdout",
     "output_type": "stream",
     "text": [
      "KerasTensor(type_spec=TensorSpec(shape=(None, 100), dtype=tf.float32, name=None), name='batch_normalization_1/batchnorm/add_1:0', description=\"created by layer 'batch_normalization_1'\")\n"
     ]
    }
   ],
   "source": [
    "encoder_last_c = BatchNormalization(momentum=0.6)(encoder_last_c) \n",
    "print(encoder_last_c)"
   ]
  },
  {
   "cell_type": "code",
   "execution_count": 13,
   "metadata": {},
   "outputs": [
    {
     "name": "stdout",
     "output_type": "stream",
     "text": [
      "KerasTensor(type_spec=TensorSpec(shape=(None, 20, 100), dtype=tf.float32, name=None), name='repeat_vector/Tile:0', description=\"created by layer 'repeat_vector'\")\n"
     ]
    }
   ],
   "source": [
    "decoder = RepeatVector(output_train.shape[1])(encoder_last_h1)\n",
    "print(decoder)"
   ]
  },
  {
   "cell_type": "code",
   "execution_count": 14,
   "metadata": {},
   "outputs": [
    {
     "name": "stdout",
     "output_type": "stream",
     "text": [
      "KerasTensor(type_spec=TensorSpec(shape=(None, 20, 100), dtype=tf.float32, name=None), name='lstm_1/transpose_1:0', description=\"created by layer 'lstm_1'\")\n"
     ]
    }
   ],
   "source": [
    "decoder = LSTM(n_hidden, activation='elu', dropout=0.2, recurrent_dropout=0.2,\n",
    "               return_state=False, return_sequences=True)(\n",
    "    decoder, initial_state=[encoder_last_h1, encoder_last_c])\n",
    "print(decoder)"
   ]
  },
  {
   "cell_type": "code",
   "execution_count": 15,
   "metadata": {},
   "outputs": [
    {
     "name": "stdout",
     "output_type": "stream",
     "text": [
      "KerasTensor(type_spec=TensorSpec(shape=(None, 20, 1), dtype=tf.float32, name=None), name='dense/BiasAdd:0', description=\"created by layer 'dense'\")\n"
     ]
    }
   ],
   "source": [
    "#out = TimeDistributed(Dense(1))(decoder)\n",
    "out = Dense(1)(decoder)\n",
    "print(out)"
   ]
  },
  {
   "cell_type": "code",
   "execution_count": 16,
   "metadata": {
    "scrolled": false
   },
   "outputs": [
    {
     "name": "stdout",
     "output_type": "stream",
     "text": [
      "Model: \"model\"\n",
      "__________________________________________________________________________________________________\n",
      "Layer (type)                    Output Shape         Param #     Connected to                     \n",
      "==================================================================================================\n",
      "input_1 (InputLayer)            [(None, 100, 84)]    0                                            \n",
      "__________________________________________________________________________________________________\n",
      "lstm (LSTM)                     [(None, 100), (None, 74000       input_1[0][0]                    \n",
      "__________________________________________________________________________________________________\n",
      "batch_normalization (BatchNorma (None, 100)          400         lstm[0][0]                       \n",
      "__________________________________________________________________________________________________\n",
      "repeat_vector (RepeatVector)    (None, 20, 100)      0           batch_normalization[0][0]        \n",
      "__________________________________________________________________________________________________\n",
      "batch_normalization_1 (BatchNor (None, 100)          400         lstm[0][2]                       \n",
      "__________________________________________________________________________________________________\n",
      "lstm_1 (LSTM)                   (None, 20, 100)      80400       repeat_vector[0][0]              \n",
      "                                                                 batch_normalization[0][0]        \n",
      "                                                                 batch_normalization_1[0][0]      \n",
      "__________________________________________________________________________________________________\n",
      "dense (Dense)                   (None, 20, 1)        101         lstm_1[0][0]                     \n",
      "==================================================================================================\n",
      "Total params: 155,301\n",
      "Trainable params: 154,901\n",
      "Non-trainable params: 400\n",
      "__________________________________________________________________________________________________\n"
     ]
    }
   ],
   "source": [
    "model = Model(inputs=input_train, outputs=out)\n",
    "opt = Adam(lr=0.01, clipnorm=1)\n",
    "model.compile(loss='mean_squared_error', optimizer=opt, metrics=['mae'])\n",
    "model.summary()"
   ]
  },
  {
   "cell_type": "code",
   "execution_count": 17,
   "metadata": {},
   "outputs": [
    {
     "data": {
      "image/png": "[encoded data removed]",
      "text/plain": [
       "<IPython.core.display.Image object>"
      ]
     },
     "execution_count": 17,
     "metadata": {},
     "output_type": "execute_result"
    }
   ],
   "source": [
    "plot_model(model, to_file='model_plot.png', show_shapes=True, show_layer_names=True)"
   ]
  },
  {
   "cell_type": "code",
   "execution_count": 18,
   "metadata": {},
   "outputs": [
    {
     "data": {
      "text/plain": [
       "((1362, 100, 84), (1362, 20, 1))"
      ]
     },
     "execution_count": 18,
     "metadata": {},
     "output_type": "execute_result"
    }
   ],
   "source": [
    "X_input_train.shape, X_output_train.shape"
   ]
  },
  {
   "cell_type": "code",
   "execution_count": 19,
   "metadata": {},
   "outputs": [
    {
     "data": {
      "text/plain": [
       "((1362, 100, 84), (1362, 20, 1))"
      ]
     },
     "execution_count": 19,
     "metadata": {},
     "output_type": "execute_result"
    }
   ],
   "source": [
    "X_input_train[:, :, :].shape, X_output_train[:, :, :].shape"
   ]
  },
  {
   "cell_type": "code",
   "execution_count": 20,
   "metadata": {},
   "outputs": [
    {
     "name": "stdout",
     "output_type": "stream",
     "text": [
      "False\n"
     ]
    }
   ],
   "source": [
    "array_sum = np.sum(X_input_train)\n",
    "array_has_nan = np.isnan(array_sum)\n",
    "print(array_has_nan)"
   ]
  },
  {
   "cell_type": "code",
   "execution_count": 21,
   "metadata": {
    "scrolled": true
   },
   "outputs": [
    {
     "name": "stdout",
     "output_type": "stream",
     "text": [
      "Epoch 1/100\n",
      "2/2 [==============================] - 5s 830ms/step - loss: 526629.0625 - mae: 653.8796 - val_loss: 593247731712.0000 - val_mae: 242971.1875\n",
      "Epoch 2/100\n",
      "2/2 [==============================] - 1s 201ms/step - loss: 119180605.3333 - mae: 1954.7491 - val_loss: 5654592000.0000 - val_mae: 24134.2832\n",
      "Epoch 3/100\n",
      "2/2 [==============================] - 1s 180ms/step - loss: 1661565.5000 - mae: 713.4419 - val_loss: 138323312.0000 - val_mae: 2707.3574\n",
      "Epoch 4/100\n",
      "2/2 [==============================] - 1s 198ms/step - loss: 470025.3125 - mae: 616.2189 - val_loss: 388903680.0000 - val_mae: 3704.7446\n",
      "Epoch 5/100\n",
      "2/2 [==============================] - 1s 171ms/step - loss: 419111.6354 - mae: 559.7868 - val_loss: 20820088832.0000 - val_mae: 26354.8633\n",
      "Epoch 6/100\n",
      "2/2 [==============================] - 1s 193ms/step - loss: 382844.8021 - mae: 523.8616 - val_loss: 18514876416.0000 - val_mae: 68956.4062\n",
      "Epoch 7/100\n",
      "2/2 [==============================] - 1s 181ms/step - loss: 362369.4792 - mae: 514.4684 - val_loss: 473055363072.0000 - val_mae: 334513.0312\n",
      "Epoch 8/100\n",
      "2/2 [==============================] - 1s 191ms/step - loss: 348518.4583 - mae: 475.2755 - val_loss: 689414602752.0000 - val_mae: 384265.4375\n",
      "Epoch 9/100\n",
      "2/2 [==============================] - 1s 178ms/step - loss: 311259.4375 - mae: 464.4641 - val_loss: 82551144448.0000 - val_mae: 119930.9922\n",
      "Epoch 10/100\n",
      "2/2 [==============================] - 1s 191ms/step - loss: 291470.8750 - mae: 439.6853 - val_loss: 32093261824.0000 - val_mae: 56876.9414\n",
      "Epoch 11/100\n",
      "2/2 [==============================] - 1s 208ms/step - loss: 283381.2396 - mae: 427.9988 - val_loss: 69707194368.0000 - val_mae: 69765.1953\n",
      "Epoch 12/100\n",
      "2/2 [==============================] - 1s 196ms/step - loss: 262002.2135 - mae: 405.3842 - val_loss: 71166197760.0000 - val_mae: 77526.6406\n",
      "Epoch 13/100\n",
      "2/2 [==============================] - 1s 203ms/step - loss: 323931.3438 - mae: 442.2336 - val_loss: 535156752384.0000 - val_mae: 412306.0938\n",
      "Epoch 14/100\n",
      "2/2 [==============================] - 1s 200ms/step - loss: 252638.4271 - mae: 404.1639 - val_loss: 1728240512.0000 - val_mae: 17966.7676\n",
      "Epoch 15/100\n",
      "2/2 [==============================] - 1s 193ms/step - loss: 238279.8438 - mae: 381.5682 - val_loss: 38363983872.0000 - val_mae: 70339.5156\n",
      "Epoch 16/100\n",
      "2/2 [==============================] - 1s 198ms/step - loss: 230163.1354 - mae: 380.8182 - val_loss: 83847544832.0000 - val_mae: 83181.3672\n",
      "Epoch 17/100\n",
      "2/2 [==============================] - 1s 213ms/step - loss: 213005.2240 - mae: 370.7211 - val_loss: 36154376192.0000 - val_mae: 116261.2188\n",
      "Epoch 18/100\n",
      "2/2 [==============================] - 1s 188ms/step - loss: 202967.8125 - mae: 358.3659 - val_loss: 497685528576.0000 - val_mae: 97118.6328\n",
      "Epoch 19/100\n",
      "2/2 [==============================] - 1s 193ms/step - loss: 213491.3802 - mae: 370.0499 - val_loss: 141094780928.0000 - val_mae: 133178.1875\n",
      "Epoch 20/100\n",
      "2/2 [==============================] - 1s 202ms/step - loss: 319129.1875 - mae: 448.0409 - val_loss: 65454780416.0000 - val_mae: 224559.0938\n",
      "Epoch 21/100\n",
      "2/2 [==============================] - 1s 210ms/step - loss: 271435.3958 - mae: 415.3177 - val_loss: 314911981568.0000 - val_mae: 219884.1406\n",
      "Epoch 22/100\n",
      "2/2 [==============================] - 1s 198ms/step - loss: 206248.2448 - mae: 361.0403 - val_loss: 557699904.0000 - val_mae: 5041.4761\n",
      "Epoch 23/100\n",
      "2/2 [==============================] - 1s 198ms/step - loss: 200591.9062 - mae: 355.5370 - val_loss: 66657820672.0000 - val_mae: 245683.8125\n",
      "Epoch 24/100\n",
      "2/2 [==============================] - 1s 198ms/step - loss: 180408.0000 - mae: 337.6579 - val_loss: 26001213440.0000 - val_mae: 21528.1016\n",
      "Epoch 25/100\n",
      "2/2 [==============================] - 1s 212ms/step - loss: 208878.8125 - mae: 370.2387 - val_loss: 1386415232.0000 - val_mae: 10110.8320\n",
      "Epoch 26/100\n",
      "2/2 [==============================] - 1s 197ms/step - loss: 179373.2656 - mae: 342.3404 - val_loss: 247642013696.0000 - val_mae: 61352.3359\n",
      "Epoch 27/100\n",
      "2/2 [==============================] - 1s 207ms/step - loss: 402152.4792 - mae: 516.3672 - val_loss: 98368299008.0000 - val_mae: 76190.6328\n",
      "Epoch 28/100\n",
      "2/2 [==============================] - 1s 191ms/step - loss: 166601.2240 - mae: 329.9834 - val_loss: 36477214720.0000 - val_mae: 61562.9414\n",
      "Epoch 29/100\n",
      "2/2 [==============================] - 1s 199ms/step - loss: 191275.1250 - mae: 350.2017 - val_loss: 2030838743040.0000 - val_mae: 194816.7031\n",
      "Epoch 30/100\n",
      "2/2 [==============================] - 1s 175ms/step - loss: 161649.0625 - mae: 324.8301 - val_loss: 453644353536.0000 - val_mae: 115574.0938\n",
      "Epoch 31/100\n",
      "2/2 [==============================] - 1s 203ms/step - loss: 207848.9062 - mae: 373.1226 - val_loss: 214485860352.0000 - val_mae: 123376.5156\n",
      "Epoch 32/100\n",
      "2/2 [==============================] - 1s 178ms/step - loss: 163885.3177 - mae: 326.9678 - val_loss: 247638687744.0000 - val_mae: 170157.7812\n",
      "Epoch 33/100\n",
      "2/2 [==============================] - 1s 209ms/step - loss: 187582.3021 - mae: 345.1289 - val_loss: 1306719551488.0000 - val_mae: 335146.6562\n",
      "Epoch 34/100\n",
      "2/2 [==============================] - 1s 177ms/step - loss: 164422.6198 - mae: 324.3292 - val_loss: 1023233097728.0000 - val_mae: 251259.5156\n",
      "Epoch 35/100\n",
      "2/2 [==============================] - 1s 212ms/step - loss: 187000.0104 - mae: 341.6727 - val_loss: 318197727232.0000 - val_mae: 128156.9844\n",
      "Epoch 36/100\n",
      "2/2 [==============================] - 1s 178ms/step - loss: 165719.6510 - mae: 326.1954 - val_loss: 44992061440.0000 - val_mae: 43688.6875\n",
      "Epoch 37/100\n",
      "2/2 [==============================] - 1s 207ms/step - loss: 168895.6927 - mae: 332.1164 - val_loss: 36522131456.0000 - val_mae: 57896.7969\n",
      "Epoch 38/100\n",
      "2/2 [==============================] - 1s 169ms/step - loss: 151433.9219 - mae: 313.2076 - val_loss: 74294272000.0000 - val_mae: 69293.5000\n",
      "Epoch 39/100\n",
      "2/2 [==============================] - 1s 214ms/step - loss: 168913.8750 - mae: 333.0021 - val_loss: 118022160384.0000 - val_mae: 68398.1797\n",
      "Epoch 40/100\n",
      "2/2 [==============================] - 1s 188ms/step - loss: 155203.2552 - mae: 316.7895 - val_loss: 38280089600.0000 - val_mae: 42490.0508\n",
      "Epoch 41/100\n",
      "2/2 [==============================] - 1s 213ms/step - loss: 166450.9948 - mae: 327.4045 - val_loss: 15785536512.0000 - val_mae: 33338.9453\n",
      "Epoch 42/100\n",
      "2/2 [==============================] - 1s 179ms/step - loss: 143736.8906 - mae: 305.3633 - val_loss: 55456415744.0000 - val_mae: 48362.1797\n",
      "Epoch 43/100\n",
      "2/2 [==============================] - 1s 208ms/step - loss: 336103.6458 - mae: 388.5055 - val_loss: 58119221248.0000 - val_mae: 47803.7227\n",
      "Epoch 44/100\n",
      "2/2 [==============================] - 1s 170ms/step - loss: 262094.4792 - mae: 415.5419 - val_loss: 25255970816.0000 - val_mae: 38729.9453\n",
      "Epoch 45/100\n",
      "2/2 [==============================] - 1s 206ms/step - loss: 144249.7865 - mae: 305.4183 - val_loss: 745267968.0000 - val_mae: 11760.9424\n",
      "Epoch 46/100\n",
      "2/2 [==============================] - 1s 172ms/step - loss: 166447.2917 - mae: 328.1198 - val_loss: 72265883648.0000 - val_mae: 36925.0938\n",
      "Epoch 47/100\n",
      "2/2 [==============================] - 1s 203ms/step - loss: 151064.2708 - mae: 313.2731 - val_loss: 1448291712.0000 - val_mae: 17571.4707\n",
      "Epoch 48/100\n",
      "2/2 [==============================] - 1s 203ms/step - loss: 150791.9062 - mae: 317.4404 - val_loss: 1642208128.0000 - val_mae: 17347.8965\n",
      "Epoch 49/100\n",
      "2/2 [==============================] - 1s 212ms/step - loss: 141135.0729 - mae: 306.9360 - val_loss: 24726132736.0000 - val_mae: 30241.3184\n",
      "Epoch 50/100\n",
      "2/2 [==============================] - 1s 191ms/step - loss: 158423.7552 - mae: 323.0813 - val_loss: 1817080832.0000 - val_mae: 15045.6348\n",
      "Epoch 51/100\n",
      "2/2 [==============================] - 1s 201ms/step - loss: 139389.2396 - mae: 300.1302 - val_loss: 3094823680.0000 - val_mae: 17245.1387\n",
      "Epoch 52/100\n",
      "2/2 [==============================] - 1s 238ms/step - loss: 165591.9167 - mae: 327.9632 - val_loss: 4531921408.0000 - val_mae: 21382.0195\n",
      "Epoch 53/100\n",
      "2/2 [==============================] - 1s 197ms/step - loss: 131077.0156 - mae: 289.3033 - val_loss: 45894340608.0000 - val_mae: 35109.2422\n",
      "Epoch 54/100\n"
     ]
    },
    {
     "name": "stdout",
     "output_type": "stream",
     "text": [
      "2/2 [==============================] - 1s 182ms/step - loss: 154852.7396 - mae: 314.8535 - val_loss: 27079346176.0000 - val_mae: 28801.3594\n",
      "Epoch 55/100\n",
      "2/2 [==============================] - 1s 217ms/step - loss: 140831.2812 - mae: 300.4120 - val_loss: 56159154176.0000 - val_mae: 32027.9961\n",
      "Epoch 56/100\n",
      "2/2 [==============================] - 1s 183ms/step - loss: 164092.2448 - mae: 331.2101 - val_loss: 4513824256.0000 - val_mae: 16939.7246\n",
      "Epoch 57/100\n",
      "2/2 [==============================] - 1s 192ms/step - loss: 137603.5208 - mae: 298.1499 - val_loss: 2166060288.0000 - val_mae: 13157.5586\n",
      "Epoch 58/100\n",
      "2/2 [==============================] - 1s 186ms/step - loss: 149558.6979 - mae: 312.0535 - val_loss: 31396950016.0000 - val_mae: 26284.9551\n",
      "Epoch 59/100\n",
      "2/2 [==============================] - 1s 184ms/step - loss: 137590.6146 - mae: 299.1776 - val_loss: 6645487616.0000 - val_mae: 14251.6660\n",
      "Epoch 60/100\n",
      "2/2 [==============================] - 1s 201ms/step - loss: 158689.2448 - mae: 325.3062 - val_loss: 5669872128.0000 - val_mae: 12939.0420\n",
      "Epoch 61/100\n",
      "2/2 [==============================] - 1s 199ms/step - loss: 132494.3646 - mae: 297.5554 - val_loss: 13301092352.0000 - val_mae: 16636.9102\n",
      "Epoch 62/100\n",
      "2/2 [==============================] - 1s 202ms/step - loss: 155139.1927 - mae: 315.8017 - val_loss: 4004643072.0000 - val_mae: 13512.5352\n",
      "Epoch 63/100\n",
      "2/2 [==============================] - 1s 190ms/step - loss: 147648.9010 - mae: 305.9095 - val_loss: 11315342336.0000 - val_mae: 17107.3164\n",
      "Epoch 64/100\n",
      "2/2 [==============================] - 1s 198ms/step - loss: 183475.1042 - mae: 342.2075 - val_loss: 2812614144.0000 - val_mae: 13623.1602\n",
      "Epoch 65/100\n",
      "2/2 [==============================] - 1s 194ms/step - loss: 190442.2135 - mae: 357.3200 - val_loss: 5815776768.0000 - val_mae: 12747.2188\n",
      "Epoch 66/100\n",
      "2/2 [==============================] - 1s 194ms/step - loss: 128918.1823 - mae: 289.5020 - val_loss: 466213056.0000 - val_mae: 7056.7173\n",
      "Epoch 67/100\n",
      "2/2 [==============================] - 1s 190ms/step - loss: 138893.5104 - mae: 300.7661 - val_loss: 1111034624.0000 - val_mae: 9087.2793\n",
      "Epoch 68/100\n",
      "2/2 [==============================] - 1s 195ms/step - loss: 129478.0599 - mae: 290.2001 - val_loss: 3439196416.0000 - val_mae: 14155.1973\n",
      "Epoch 69/100\n",
      "2/2 [==============================] - 1s 208ms/step - loss: 139213.5156 - mae: 304.7474 - val_loss: 2838620160.0000 - val_mae: 14373.1133\n",
      "Epoch 70/100\n",
      "2/2 [==============================] - 1s 197ms/step - loss: 125563.5078 - mae: 291.2616 - val_loss: 1905514752.0000 - val_mae: 11383.9756\n",
      "Epoch 71/100\n",
      "2/2 [==============================] - 1s 188ms/step - loss: 130269.6354 - mae: 290.7458 - val_loss: 2902318592.0000 - val_mae: 13443.8633\n",
      "Epoch 72/100\n",
      "2/2 [==============================] - 1s 192ms/step - loss: 129659.7474 - mae: 286.6211 - val_loss: 2836406528.0000 - val_mae: 14299.1240\n",
      "Epoch 73/100\n",
      "2/2 [==============================] - 1s 193ms/step - loss: 137987.5000 - mae: 298.7017 - val_loss: 2243025152.0000 - val_mae: 11709.4209\n",
      "Epoch 74/100\n",
      "2/2 [==============================] - 1s 180ms/step - loss: 122889.4661 - mae: 283.2289 - val_loss: 2284995840.0000 - val_mae: 11524.8340\n",
      "Epoch 75/100\n",
      "2/2 [==============================] - 1s 172ms/step - loss: 125911.4740 - mae: 289.5307 - val_loss: 3226641664.0000 - val_mae: 11910.6553\n",
      "Epoch 76/100\n",
      "2/2 [==============================] - 1s 196ms/step - loss: 123405.7240 - mae: 292.5032 - val_loss: 1880340608.0000 - val_mae: 10110.5781\n",
      "Epoch 77/100\n",
      "2/2 [==============================] - 1s 169ms/step - loss: 123838.7109 - mae: 290.7323 - val_loss: 1062943872.0000 - val_mae: 8088.8584\n",
      "Epoch 78/100\n",
      "2/2 [==============================] - 1s 191ms/step - loss: 119496.6849 - mae: 277.4997 - val_loss: 2358310656.0000 - val_mae: 11525.8496\n",
      "Epoch 79/100\n",
      "2/2 [==============================] - 1s 173ms/step - loss: 119820.7057 - mae: 278.7097 - val_loss: 1373910016.0000 - val_mae: 9830.1641\n",
      "Epoch 80/100\n",
      "2/2 [==============================] - 1s 185ms/step - loss: 116445.8698 - mae: 274.3626 - val_loss: 2629732608.0000 - val_mae: 11257.8018\n",
      "Epoch 81/100\n",
      "2/2 [==============================] - 1s 192ms/step - loss: 133079.5521 - mae: 295.1492 - val_loss: 3509574144.0000 - val_mae: 11047.4941\n",
      "Epoch 82/100\n",
      "2/2 [==============================] - 1s 200ms/step - loss: 112896.0781 - mae: 273.1458 - val_loss: 1548423552.0000 - val_mae: 11008.6426\n",
      "Epoch 83/100\n",
      "2/2 [==============================] - 1s 187ms/step - loss: 116804.0130 - mae: 274.0208 - val_loss: 1261100032.0000 - val_mae: 9988.2236\n",
      "Epoch 84/100\n",
      "2/2 [==============================] - 1s 191ms/step - loss: 133577.9323 - mae: 298.9065 - val_loss: 1724506752.0000 - val_mae: 10900.2930\n",
      "Epoch 85/100\n",
      "2/2 [==============================] - 1s 192ms/step - loss: 119208.6719 - mae: 285.2247 - val_loss: 3048627456.0000 - val_mae: 11363.0146\n",
      "Epoch 86/100\n",
      "2/2 [==============================] - 1s 195ms/step - loss: 120107.0469 - mae: 280.4128 - val_loss: 1757627264.0000 - val_mae: 10398.2803\n",
      "Epoch 87/100\n",
      "2/2 [==============================] - 1s 188ms/step - loss: 115807.3255 - mae: 276.5816 - val_loss: 6210162688.0000 - val_mae: 18706.2832\n",
      "Epoch 88/100\n",
      "2/2 [==============================] - 1s 190ms/step - loss: 141760.8229 - mae: 301.3532 - val_loss: 3652397568.0000 - val_mae: 13846.9375\n",
      "Epoch 89/100\n",
      "2/2 [==============================] - 1s 196ms/step - loss: 116716.4505 - mae: 279.4513 - val_loss: 3100664064.0000 - val_mae: 10947.1182\n",
      "Epoch 90/100\n",
      "2/2 [==============================] - 1s 186ms/step - loss: 126774.0859 - mae: 287.0086 - val_loss: 1223196032.0000 - val_mae: 7742.5142\n",
      "Epoch 91/100\n",
      "2/2 [==============================] - 1s 189ms/step - loss: 122697.4479 - mae: 284.7991 - val_loss: 1290382848.0000 - val_mae: 8307.3633\n",
      "Epoch 92/100\n",
      "2/2 [==============================] - 1s 184ms/step - loss: 115386.1953 - mae: 280.0797 - val_loss: 1245475968.0000 - val_mae: 8044.3120\n",
      "Epoch 93/100\n",
      "2/2 [==============================] - 1s 201ms/step - loss: 119025.7891 - mae: 285.1536 - val_loss: 3164681216.0000 - val_mae: 11419.4404\n",
      "Epoch 94/100\n",
      "2/2 [==============================] - 1s 165ms/step - loss: 106537.2005 - mae: 266.3710 - val_loss: 4185061632.0000 - val_mae: 11057.2129\n",
      "Epoch 95/100\n",
      "2/2 [==============================] - 1s 213ms/step - loss: 107008.0078 - mae: 268.4855 - val_loss: 2682040320.0000 - val_mae: 11315.6953\n",
      "Epoch 96/100\n",
      "2/2 [==============================] - 1s 171ms/step - loss: 154189.4115 - mae: 318.1693 - val_loss: 2626385408.0000 - val_mae: 10224.7715\n",
      "Epoch 97/100\n",
      "2/2 [==============================] - 1s 195ms/step - loss: 146016.4010 - mae: 293.5220 - val_loss: 3793756160.0000 - val_mae: 11055.6377\n",
      "Epoch 98/100\n",
      "2/2 [==============================] - 1s 165ms/step - loss: 111028.5052 - mae: 274.7249 - val_loss: 718802240.0000 - val_mae: 6756.1875\n",
      "Epoch 99/100\n",
      "2/2 [==============================] - 1s 209ms/step - loss: 121215.4948 - mae: 277.8775 - val_loss: 1378659712.0000 - val_mae: 8598.7490\n",
      "Epoch 100/100\n",
      "2/2 [==============================] - 1s 234ms/step - loss: 115126.1849 - mae: 275.9396 - val_loss: 1137162880.0000 - val_mae: 9392.2510\n"
     ]
    }
   ],
   "source": [
    "epc = 100\n",
    "#es = EarlyStopping(monitor='val_loss', mode='min', patience=50)\n",
    "#model.load_weights('Forecasting_seq2seq.h5')\n",
    "history = model.fit(X_input_train[:, :, :], X_output_train[:, :, :], validation_split=0.2, \n",
    "                    epochs=epc, verbose=1,\n",
    "                    #callbacks=[es], \n",
    "                    batch_size=1000)\n",
    "train_mae = history.history['mae']\n",
    "valid_mae = history.history['val_mae']\n",
    " \n",
    "model.save('Forecasting_seq2seq.h5')"
   ]
  },
  {
   "cell_type": "code",
   "execution_count": 24,
   "metadata": {
    "scrolled": true
   },
   "outputs": [
    {
     "data": {
      "image/png": "[encoded data removed]",
      "text/plain": [
       "<Figure size 432x288 with 1 Axes>"
      ]
     },
     "metadata": {
      "needs_background": "light"
     },
     "output_type": "display_data"
    }
   ],
   "source": [
    "plt.plot(train_mae, label='train mae'), \n",
    "plt.plot(valid_mae, label='validation mae')\n",
    "plt.ylabel('mae')\n",
    "plt.xlabel('epoch')\n",
    "plt.title('train vs. validation accuracy (mae)')\n",
    "plt.legend(loc='upper center', fancybox=True, shadow=False, ncol=2)\n",
    "plt.show()"
   ]
  },
  {
   "cell_type": "markdown",
   "metadata": {},
   "source": [
    "# Predict"
   ]
  },
  {
   "cell_type": "code",
   "execution_count": 27,
   "metadata": {
    "scrolled": true
   },
   "outputs": [
    {
     "name": "stdout",
     "output_type": "stream",
     "text": [
      "(1362, 20, 1) (347, 20, 1)\n",
      "(1362, 20, 1) (347, 20, 1)\n"
     ]
    }
   ],
   "source": [
    "train_pred_detrend = model.predict(X_input_train[:, :, :])#*x_train_max[:]\n",
    "test_pred_detrend = model.predict(X_input_test[:, :, :])#*x_train_max[:]\n",
    "print(train_pred_detrend.shape, test_pred_detrend.shape)\n",
    "\n",
    "train_true_detrend = X_output_train[:, :, :]*x_train_max[:]\n",
    "test_true_detrend = X_output_test[:, :, :]*x_train_max[:]\n",
    "print(train_pred_detrend.shape, test_pred_detrend.shape)"
   ]
  },
  {
   "cell_type": "code",
   "execution_count": null,
   "metadata": {
    "scrolled": true
   },
   "outputs": [],
   "source": [
    "for lb in ['train', 'test']:\n",
    "    plt.figure(figsize=(15, 4))\n",
    "    plt.hist(data_final[lb+'_pred'].flatten(), bins=100, color='orange', alpha=0.5, label=lb+' pred')\n",
    "    plt.hist(data_final[lb+'_true'].flatten(), bins=100, color='green', alpha=0.5, label=lb+' true')\n",
    "    plt.legend()\n",
    "    plt.title('value distribution: '+lb)\n",
    "    plt.show()"
   ]
  },
  {
   "cell_type": "code",
   "execution_count": null,
   "metadata": {
    "scrolled": true
   },
   "outputs": [],
   "source": [
    "for lb in ['train', 'test']:\n",
    "    MAE_overall = abs(data_final[lb+'_pred'] - data_final[lb+'_true']).mean()\n",
    "    MAE_ = abs(data_final[lb+'_pred'] - data_final[lb+'_true']).mean(axis=(1, 2))\n",
    "    plt.figure(figsize=(15, 3))\n",
    "    plt.plot(MAE_)\n",
    "    plt.title('MAE '+lb+': overall MAE = '+str(MAE_overall))\n",
    "    plt.show() "
   ]
  },
  {
   "cell_type": "code",
   "execution_count": null,
   "metadata": {
    "scrolled": true
   },
   "outputs": [],
   "source": [
    "for lb in ['train', 'test']:\n",
    "    ith_sample = random.choice(range(data_final[lb+'_pred'].shape[0]))\n",
    "\n",
    "    plt.figure(figsize=(15,3))\n",
    "    for i, x_lbl, clr in zip([0, 1], ['x1', 'x2'], ['green', 'blue']):\n",
    "        plt.plot(data_final[lb+'_pred'][ith_sample, :, i], linestyle='--', color=clr, label='pred '+x_lbl)\n",
    "        plt.plot(data_final[lb+'_true'][ith_sample, :, i], linestyle='-', color=clr, label='true '+x_lbl)\n",
    "    plt.title('({}): {}th sample'.format(lb, ith_sample))\n",
    "    plt.legend(loc='upper center', bbox_to_anchor=(0.5, -0.15), fancybox=True, shadow=False, ncol=2)\n",
    "    plt.show()"
   ]
  },
  {
   "cell_type": "code",
   "execution_count": null,
   "metadata": {
    "scrolled": false
   },
   "outputs": [],
   "source": [
    "ith_timestep = random.choice(range(data_final[lb+'_pred'].shape[1]))\n",
    "for lb in ['train', 'test']:   \n",
    "    plt.figure(figsize=(15, 5))\n",
    "    for i, x_lbl, clr in zip([0, 1], ['x1', 'x2'], ['green', 'blue']):\n",
    "        plt.plot(data_final[lb+'_pred'][:, ith_timestep, i], linestyle='--', color=clr, label='pred '+x_lbl)\n",
    "        plt.plot(data_final[lb+'_true'][:, ith_timestep, i], linestyle='-', color=clr, label='true '+x_lbl)\n",
    "    plt.title('({}): {}th time step in all samples'.format(lb, ith_timestep))\n",
    "    plt.legend(loc='upper center', bbox_to_anchor=(0.5, -0.15), fancybox=True, shadow=False, ncol=2)\n",
    "    plt.show()\n"
   ]
  },
  {
   "cell_type": "code",
   "execution_count": null,
   "metadata": {
    "scrolled": false
   },
   "outputs": [],
   "source": [
    "plt.figure(figsize=(15, 5))\n",
    "train_start_t = 0\n",
    "test_start_t = data_final['train_pred'].shape[0]\n",
    "for lb, tm, clrs in zip(['train', 'test'], [train_start_t, test_start_t], [['green', 'red'], ['blue', 'orange']]):\n",
    "    for i, x_lbl in zip([0, 1], ['x1', 'x2']):\n",
    "        plt.plot(range(tm, tm+data_final[lb+'_pred'].shape[0]), \n",
    "                 data_final[lb+'_pred'][:, ith_timestep, i], \n",
    "                 linestyle='--', linewidth=1, color=clrs[0], label='pred '+x_lbl)\n",
    "        plt.plot(range(tm, tm+data_final[lb+'_pred'].shape[0]), \n",
    "                 data_final[lb+'_true'][:, ith_timestep, i], \n",
    "                 linestyle='-', linewidth=1, color=clrs[1], label='true '+x_lbl)\n",
    "    \n",
    "    \n",
    "plt.title('{}th time step in all samples'.format(lb, ith_timestep))\n",
    "plt.legend(loc='upper center', bbox_to_anchor=(0.5, -0.15), fancybox=True, shadow=False, ncol=8)\n",
    "plt.show()"
   ]
  },
  {
   "cell_type": "code",
   "execution_count": null,
   "metadata": {},
   "outputs": [],
   "source": []
  },
  {
   "cell_type": "code",
   "execution_count": null,
   "metadata": {},
   "outputs": [],
   "source": []
  },
  {
   "cell_type": "code",
   "execution_count": null,
   "metadata": {},
   "outputs": [],
   "source": []
  }
 ],
 "metadata": {
  "kernelspec": {
   "display_name": "Python 3",
   "language": "python",
   "name": "python3"
  },
  "language_info": {
   "codemirror_mode": {
    "name": "ipython",
    "version": 3
   },
   "file_extension": ".py",
   "mimetype": "text/x-python",
   "name": "python",
   "nbconvert_exporter": "python",
   "pygments_lexer": "ipython3",
   "version": "3.6.9"
  }
 },
 "nbformat": 4,
 "nbformat_minor": 2
}
