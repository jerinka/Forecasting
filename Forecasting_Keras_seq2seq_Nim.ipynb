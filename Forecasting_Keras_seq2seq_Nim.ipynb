{
 "cells": [
  {
   "cell_type": "code",
   "execution_count": 1,
   "metadata": {},
   "outputs": [],
   "source": [
    "#!pip install pydot\n",
    "#!pip install graphviz"
   ]
  },
  {
   "cell_type": "code",
   "execution_count": 2,
   "metadata": {},
   "outputs": [],
   "source": [
    "import random\n",
    "import numpy as np\n",
    "import matplotlib.pyplot as plt\n",
    "import pickle as pkl\n",
    "import keras\n",
    "from keras.models import Sequential, Model, load_model\n",
    "from keras.layers import LSTM, Dense, RepeatVector, TimeDistributed, Input, BatchNormalization, \\\n",
    "    multiply, concatenate, Flatten, Activation, dot\n",
    "from keras.optimizers import Adam\n",
    "from keras.utils import plot_model\n",
    "from keras.callbacks import EarlyStopping\n",
    "\n",
    "import pydot as pyd\n",
    "from keras.utils.vis_utils import plot_model, model_to_dot\n",
    "keras.utils.vis_utils.pydot = pyd"
   ]
  },
  {
   "cell_type": "markdown",
   "metadata": {},
   "source": [
    "# Read Data"
   ]
  },
  {
   "cell_type": "code",
   "execution_count": 3,
   "metadata": {},
   "outputs": [],
   "source": [
    "data = pkl.load(open('demodata.pkl', 'rb'))\n",
    "\n",
    "X_input_train = data['X_input_train']\n",
    "X_output_train = data['X_output_train']\n",
    "X_input_test = data['X_input_test']\n",
    "X_output_test = data['X_output_test']\n",
    "\n",
    "#x1_trend_param = 1\n",
    "#x2_trend_param = 1\n",
    "x_train_max = data['x_train_max']\n",
    "\n",
    "#X_output_train = np.expand_dims(X_output_train1, axis=-1)\n",
    "#X_output_test  = np.expand_dims(X_output_test1, axis=-1)"
   ]
  },
  {
   "cell_type": "code",
   "execution_count": 4,
   "metadata": {},
   "outputs": [
    {
     "name": "stdout",
     "output_type": "stream",
     "text": [
      "X_input_train (1413, 49, 82) X_output_train (1413, 21, 2) X_input_test (346, 49, 82) X_output_test (346, 21, 2) x_train_max (83,)\n"
     ]
    }
   ],
   "source": [
    "print('X_input_train', X_input_train.shape, \n",
    "          'X_output_train', X_output_train.shape, \n",
    "          'X_input_test', X_input_test.shape, \n",
    "          'X_output_test', X_output_test.shape, \n",
    "          'x_train_max', x_train_max.shape)"
   ]
  },
  {
   "cell_type": "code",
   "execution_count": 5,
   "metadata": {},
   "outputs": [],
   "source": [
    "#x_train_max"
   ]
  },
  {
   "cell_type": "code",
   "execution_count": 6,
   "metadata": {},
   "outputs": [
    {
     "data": {
      "text/plain": [
       "((1413, 49, 82), (1413, 21, 2))"
      ]
     },
     "execution_count": 6,
     "metadata": {},
     "output_type": "execute_result"
    }
   ],
   "source": [
    "X_input_train.shape, X_output_train.shape"
   ]
  },
  {
   "cell_type": "markdown",
   "metadata": {},
   "source": [
    "# Model\n",
    "[Image of Luong Attention](https://github.com/HuangWeiKulish/Forecasting/blob/master/seq2seq.png?raw=true)"
   ]
  },
  {
   "cell_type": "code",
   "execution_count": 7,
   "metadata": {},
   "outputs": [
    {
     "data": {
      "text/plain": [
       "array([[[1.31600000e-01, 4.90000000e+01],\n",
       "        [1.30957143e-01, 5.00000000e+01],\n",
       "        [1.30314286e-01, 5.10000000e+01],\n",
       "        ...,\n",
       "        [1.23242857e-01, 6.70000000e+01],\n",
       "        [1.23228571e-01, 6.80000000e+01],\n",
       "        [1.23214286e-01, 6.90000000e+01]],\n",
       "\n",
       "       [[1.30957143e-01, 5.00000000e+01],\n",
       "        [1.30314286e-01, 5.10000000e+01],\n",
       "        [1.29671429e-01, 5.20000000e+01],\n",
       "        ...,\n",
       "        [1.23228571e-01, 6.80000000e+01],\n",
       "        [1.23214286e-01, 6.90000000e+01],\n",
       "        [1.23200000e-01, 7.00000000e+01]],\n",
       "\n",
       "       [[1.30314286e-01, 5.10000000e+01],\n",
       "        [1.29671429e-01, 5.20000000e+01],\n",
       "        [1.29028571e-01, 5.30000000e+01],\n",
       "        ...,\n",
       "        [1.23214286e-01, 6.90000000e+01],\n",
       "        [1.23200000e-01, 7.00000000e+01],\n",
       "        [1.15528571e-01, 7.10000000e+01]],\n",
       "\n",
       "       ...,\n",
       "\n",
       "       [[1.95142857e-02, 1.45900000e+03],\n",
       "        [2.30857143e-02, 1.46000000e+03],\n",
       "        [2.66571429e-02, 1.46100000e+03],\n",
       "        ...,\n",
       "        [1.34000000e-02, 1.47700000e+03],\n",
       "        [1.51285714e-02, 1.47800000e+03],\n",
       "        [1.68571429e-02, 1.47900000e+03]],\n",
       "\n",
       "       [[2.30857143e-02, 1.46000000e+03],\n",
       "        [2.66571429e-02, 1.46100000e+03],\n",
       "        [3.02285714e-02, 1.46200000e+03],\n",
       "        ...,\n",
       "        [1.51285714e-02, 1.47800000e+03],\n",
       "        [1.68571429e-02, 1.47900000e+03],\n",
       "        [1.85857143e-02, 1.48000000e+03]],\n",
       "\n",
       "       [[2.66571429e-02, 1.46100000e+03],\n",
       "        [3.02285714e-02, 1.46200000e+03],\n",
       "        [3.38000000e-02, 1.46300000e+03],\n",
       "        ...,\n",
       "        [1.68571429e-02, 1.47900000e+03],\n",
       "        [1.85857143e-02, 1.48000000e+03],\n",
       "        [2.03142857e-02, 1.48100000e+03]]])"
      ]
     },
     "metadata": {},
     "output_type": "display_data"
    },
    {
     "data": {
      "text/plain": [
       "array([[[8.84043857e-01, 8.81581207e-01, 8.78460497e-01, ...,\n",
       "         7.66724504e-01, 8.43668237e-01, 0.00000000e+00],\n",
       "        [8.84043857e-01, 8.81581207e-01, 8.78460497e-01, ...,\n",
       "         7.67688452e-01, 8.41313448e-01, 1.00000000e+00],\n",
       "        [8.84043857e-01, 8.81581207e-01, 8.78460497e-01, ...,\n",
       "         7.68652400e-01, 8.38958660e-01, 2.00000000e+00],\n",
       "        ...,\n",
       "        [7.70702605e-01, 7.63258207e-01, 7.60574811e-01, ...,\n",
       "         8.11066127e-01, 7.35347985e-01, 4.60000000e+01],\n",
       "        [7.81541168e-01, 7.83270596e-01, 7.64943187e-01, ...,\n",
       "         8.12030075e-01, 7.32993197e-01, 4.70000000e+01],\n",
       "        [7.89384864e-01, 7.83604136e-01, 7.80268309e-01, ...,\n",
       "         8.12994024e-01, 7.30638409e-01, 4.80000000e+01]],\n",
       "\n",
       "       [[8.84043857e-01, 8.81581207e-01, 8.78460497e-01, ...,\n",
       "         7.67688452e-01, 8.41313448e-01, 1.00000000e+00],\n",
       "        [8.84043857e-01, 8.81581207e-01, 8.78460497e-01, ...,\n",
       "         7.68652400e-01, 8.38958660e-01, 2.00000000e+00],\n",
       "        [8.68701274e-01, 8.49716491e-01, 8.47011363e-01, ...,\n",
       "         7.69616349e-01, 8.36603872e-01, 3.00000000e+00],\n",
       "        ...,\n",
       "        [7.81541168e-01, 7.83270596e-01, 7.64943187e-01, ...,\n",
       "         8.12030075e-01, 7.32993197e-01, 4.70000000e+01],\n",
       "        [7.89384864e-01, 7.83604136e-01, 7.80268309e-01, ...,\n",
       "         8.12994024e-01, 7.30638409e-01, 4.80000000e+01],\n",
       "        [7.83727895e-01, 7.77552771e-01, 7.73608326e-01, ...,\n",
       "         8.13957972e-01, 7.28283621e-01, 4.90000000e+01]],\n",
       "\n",
       "       [[8.84043857e-01, 8.81581207e-01, 8.78460497e-01, ...,\n",
       "         7.68652400e-01, 8.38958660e-01, 2.00000000e+00],\n",
       "        [8.68701274e-01, 8.49716491e-01, 8.47011363e-01, ...,\n",
       "         7.69616349e-01, 8.36603872e-01, 3.00000000e+00],\n",
       "        [8.56864423e-01, 8.55005480e-01, 8.47273943e-01, ...,\n",
       "         7.70580297e-01, 8.34249084e-01, 4.00000000e+00],\n",
       "        ...,\n",
       "        [7.89384864e-01, 7.83604136e-01, 7.80268309e-01, ...,\n",
       "         8.12994024e-01, 7.30638409e-01, 4.80000000e+01],\n",
       "        [7.83727895e-01, 7.77552771e-01, 7.73608326e-01, ...,\n",
       "         8.13957972e-01, 7.28283621e-01, 4.90000000e+01],\n",
       "        [7.85859162e-01, 7.81880847e-01, 7.76194341e-01, ...,\n",
       "         8.14921920e-01, 7.25928833e-01, 5.00000000e+01]],\n",
       "\n",
       "       ...,\n",
       "\n",
       "       [[9.64156684e-01, 9.65693048e-01, 9.62140743e-01, ...,\n",
       "         8.28417197e-01, 9.76190476e-01, 1.41000000e+03],\n",
       "        [9.68886670e-01, 9.69409635e-01, 9.67225246e-01, ...,\n",
       "         8.28224407e-01, 9.76190476e-01, 1.41100000e+03],\n",
       "        [9.66367180e-01, 9.66931910e-01, 9.63262675e-01, ...,\n",
       "         8.28031618e-01, 9.76190476e-01, 1.41200000e+03],\n",
       "        ...,\n",
       "        [1.00000000e+00, 1.00000000e+00, 1.00000000e+00, ...,\n",
       "         8.39598997e-01, 9.62585034e-01, 1.45600000e+03],\n",
       "        [9.99001711e-01, 9.97164912e-01, 9.97811834e-01, ...,\n",
       "         8.40177366e-01, 9.62061748e-01, 1.45700000e+03],\n",
       "        [9.98003423e-01, 9.94329823e-01, 9.95623667e-01, ...,\n",
       "         8.40755735e-01, 9.61538462e-01, 1.45800000e+03]],\n",
       "\n",
       "       [[9.68886670e-01, 9.69409635e-01, 9.67225246e-01, ...,\n",
       "         8.28224407e-01, 9.76190476e-01, 1.41100000e+03],\n",
       "        [9.66367180e-01, 9.66931910e-01, 9.63262675e-01, ...,\n",
       "         8.28031618e-01, 9.76190476e-01, 1.41200000e+03],\n",
       "        [9.65012360e-01, 9.63477391e-01, 9.65291702e-01, ...,\n",
       "         8.27838828e-01, 9.76190476e-01, 1.41300000e+03],\n",
       "        ...,\n",
       "        [9.99001711e-01, 9.97164912e-01, 9.97811834e-01, ...,\n",
       "         8.40177366e-01, 9.62061748e-01, 1.45700000e+03],\n",
       "        [9.98003423e-01, 9.94329823e-01, 9.95623667e-01, ...,\n",
       "         8.40755735e-01, 9.61538462e-01, 1.45800000e+03],\n",
       "        [9.97005134e-01, 9.91494735e-01, 9.93435501e-01, ...,\n",
       "         8.41334104e-01, 9.61015175e-01, 1.45900000e+03]],\n",
       "\n",
       "       [[9.66367180e-01, 9.66931910e-01, 9.63262675e-01, ...,\n",
       "         8.28031618e-01, 9.76190476e-01, 1.41200000e+03],\n",
       "        [9.65012360e-01, 9.63477391e-01, 9.65291702e-01, ...,\n",
       "         8.27838828e-01, 9.76190476e-01, 1.41300000e+03],\n",
       "        [9.66771249e-01, 9.67360747e-01, 9.63214934e-01, ...,\n",
       "         8.27646038e-01, 9.76190476e-01, 1.41400000e+03],\n",
       "        ...,\n",
       "        [9.98003423e-01, 9.94329823e-01, 9.95623667e-01, ...,\n",
       "         8.40755735e-01, 9.61538462e-01, 1.45800000e+03],\n",
       "        [9.97005134e-01, 9.91494735e-01, 9.93435501e-01, ...,\n",
       "         8.41334104e-01, 9.61015175e-01, 1.45900000e+03],\n",
       "        [9.89304050e-01, 9.90708534e-01, 9.90666476e-01, ...,\n",
       "         8.41912473e-01, 9.60491889e-01, 1.46000000e+03]]])"
      ]
     },
     "metadata": {},
     "output_type": "display_data"
    },
    {
     "data": {
      "text/plain": [
       "(1413, 21, 2)"
      ]
     },
     "metadata": {},
     "output_type": "display_data"
    },
    {
     "data": {
      "text/plain": [
       "(1413, 49, 82)"
      ]
     },
     "metadata": {},
     "output_type": "display_data"
    },
    {
     "data": {
      "text/plain": [
       "82"
      ]
     },
     "metadata": {},
     "output_type": "display_data"
    }
   ],
   "source": [
    "display(X_output_train,X_input_train)\n",
    "\n",
    "display(X_output_train.shape)\n",
    "display(X_input_train.shape)\n",
    "display(X_input_train.shape[2])"
   ]
  },
  {
   "cell_type": "code",
   "execution_count": 8,
   "metadata": {},
   "outputs": [
    {
     "name": "stdout",
     "output_type": "stream",
     "text": [
      "KerasTensor(type_spec=TensorSpec(shape=(None, 49, 81), dtype=tf.float32, name='input_1'), name='input_1', description=\"created by layer 'input_1'\")\n",
      "KerasTensor(type_spec=TensorSpec(shape=(None, 21, 1), dtype=tf.float32, name='input_2'), name='input_2', description=\"created by layer 'input_2'\")\n"
     ]
    }
   ],
   "source": [
    "input_train = Input(shape=(X_input_train.shape[1], X_input_train.shape[2]-1))\n",
    "output_train = Input(shape=(X_output_train.shape[1], X_output_train.shape[2]-1))\n",
    "n_hidden = 100\n",
    "print(input_train)\n",
    "print(output_train)"
   ]
  },
  {
   "cell_type": "code",
   "execution_count": 9,
   "metadata": {},
   "outputs": [
    {
     "data": {
      "text/plain": [
       "(<KerasTensor: shape=(None, 49, 81) dtype=float32 (created by layer 'input_1')>,\n",
       " <KerasTensor: shape=(None, 21, 1) dtype=float32 (created by layer 'input_2')>)"
      ]
     },
     "execution_count": 9,
     "metadata": {},
     "output_type": "execute_result"
    }
   ],
   "source": [
    "input_train, output_train"
   ]
  },
  {
   "cell_type": "markdown",
   "metadata": {},
   "source": [
    "#### What to Return using LSTM\n",
    "- __*return_sequences=False, return_state=False*__: the last hidden state: state_h\n",
    "- __*return_sequences=True, return_state=False*__: return stacked hidden states (num_timesteps * num_cells): one hidden state output for each input time step\n",
    "- __*return_sequences=False, return_state=True*__: generate 3 arrays: state_h, state_h, state_c\n",
    "- __*return_sequences=True, return_state=True*__: generate 3 arrays: stacked hidden states, last state_h, last state_c"
   ]
  },
  {
   "cell_type": "code",
   "execution_count": 10,
   "metadata": {
    "scrolled": true
   },
   "outputs": [
    {
     "name": "stdout",
     "output_type": "stream",
     "text": [
      "WARNING:tensorflow:Layer lstm will not use cuDNN kernel since it doesn't meet the cuDNN kernel criteria. It will use generic GPU kernel as fallback when running on GPU\n",
      "KerasTensor(type_spec=TensorSpec(shape=(None, 100), dtype=tf.float32, name=None), name='lstm/strided_slice_3:0', description=\"created by layer 'lstm'\")\n",
      "KerasTensor(type_spec=TensorSpec(shape=(None, 100), dtype=tf.float32, name=None), name='lstm/while:4', description=\"created by layer 'lstm'\")\n",
      "KerasTensor(type_spec=TensorSpec(shape=(None, 100), dtype=tf.float32, name=None), name='lstm/while:5', description=\"created by layer 'lstm'\")\n"
     ]
    }
   ],
   "source": [
    "encoder_last_h1, encoder_last_h2, encoder_last_c = LSTM(\n",
    "    n_hidden, activation='elu', dropout=0.2, recurrent_dropout=0.2, \n",
    "    return_sequences=False, return_state=True)(input_train)\n",
    "print(encoder_last_h1)\n",
    "print(encoder_last_h2)\n",
    "print(encoder_last_c)"
   ]
  },
  {
   "cell_type": "code",
   "execution_count": 11,
   "metadata": {},
   "outputs": [
    {
     "name": "stdout",
     "output_type": "stream",
     "text": [
      "KerasTensor(type_spec=TensorSpec(shape=(None, 100), dtype=tf.float32, name=None), name='batch_normalization/batchnorm/add_1:0', description=\"created by layer 'batch_normalization'\")\n"
     ]
    }
   ],
   "source": [
    "encoder_last_h1 = BatchNormalization(momentum=0.6)(encoder_last_h1) \n",
    "print(encoder_last_h1)"
   ]
  },
  {
   "cell_type": "code",
   "execution_count": 12,
   "metadata": {},
   "outputs": [
    {
     "name": "stdout",
     "output_type": "stream",
     "text": [
      "KerasTensor(type_spec=TensorSpec(shape=(None, 100), dtype=tf.float32, name=None), name='batch_normalization_1/batchnorm/add_1:0', description=\"created by layer 'batch_normalization_1'\")\n"
     ]
    }
   ],
   "source": [
    "encoder_last_c = BatchNormalization(momentum=0.6)(encoder_last_c) \n",
    "print(encoder_last_c)"
   ]
  },
  {
   "cell_type": "code",
   "execution_count": 13,
   "metadata": {},
   "outputs": [],
   "source": [
    "#output_train"
   ]
  },
  {
   "cell_type": "code",
   "execution_count": 14,
   "metadata": {},
   "outputs": [
    {
     "name": "stdout",
     "output_type": "stream",
     "text": [
      "KerasTensor(type_spec=TensorSpec(shape=(None, 21, 100), dtype=tf.float32, name=None), name='repeat_vector/Tile:0', description=\"created by layer 'repeat_vector'\")\n"
     ]
    }
   ],
   "source": [
    "decoder = RepeatVector(output_train.shape[1])(encoder_last_h1)\n",
    "print(decoder)"
   ]
  },
  {
   "cell_type": "code",
   "execution_count": 15,
   "metadata": {},
   "outputs": [
    {
     "name": "stdout",
     "output_type": "stream",
     "text": [
      "WARNING:tensorflow:Layer lstm_1 will not use cuDNN kernel since it doesn't meet the cuDNN kernel criteria. It will use generic GPU kernel as fallback when running on GPU\n",
      "KerasTensor(type_spec=TensorSpec(shape=(None, 21, 100), dtype=tf.float32, name=None), name='lstm_1/transpose_1:0', description=\"created by layer 'lstm_1'\")\n"
     ]
    }
   ],
   "source": [
    "decoder = LSTM(n_hidden, activation='elu', dropout=0.2, recurrent_dropout=0.2,\n",
    "               return_state=False, return_sequences=True)(\n",
    "    decoder, initial_state=[encoder_last_h1, encoder_last_c])\n",
    "print(decoder)"
   ]
  },
  {
   "cell_type": "code",
   "execution_count": 16,
   "metadata": {},
   "outputs": [
    {
     "data": {
      "text/plain": [
       "<KerasTensor: shape=(None, 21, 1) dtype=float32 (created by layer 'dense')>"
      ]
     },
     "metadata": {},
     "output_type": "display_data"
    }
   ],
   "source": [
    "#out = TimeDistributed(Dense(1))(decoder)\n",
    "out = Dense(1)(decoder)\n",
    "display(out)"
   ]
  },
  {
   "cell_type": "code",
   "execution_count": 17,
   "metadata": {
    "scrolled": false
   },
   "outputs": [
    {
     "name": "stdout",
     "output_type": "stream",
     "text": [
      "Model: \"model\"\n",
      "__________________________________________________________________________________________________\n",
      "Layer (type)                    Output Shape         Param #     Connected to                     \n",
      "==================================================================================================\n",
      "input_1 (InputLayer)            [(None, 49, 81)]     0                                            \n",
      "__________________________________________________________________________________________________\n",
      "lstm (LSTM)                     [(None, 100), (None, 72800       input_1[0][0]                    \n",
      "__________________________________________________________________________________________________\n",
      "batch_normalization (BatchNorma (None, 100)          400         lstm[0][0]                       \n",
      "__________________________________________________________________________________________________\n",
      "repeat_vector (RepeatVector)    (None, 21, 100)      0           batch_normalization[0][0]        \n",
      "__________________________________________________________________________________________________\n",
      "batch_normalization_1 (BatchNor (None, 100)          400         lstm[0][2]                       \n",
      "__________________________________________________________________________________________________\n",
      "lstm_1 (LSTM)                   (None, 21, 100)      80400       repeat_vector[0][0]              \n",
      "                                                                 batch_normalization[0][0]        \n",
      "                                                                 batch_normalization_1[0][0]      \n",
      "__________________________________________________________________________________________________\n",
      "dense (Dense)                   (None, 21, 1)        101         lstm_1[0][0]                     \n",
      "==================================================================================================\n",
      "Total params: 154,101\n",
      "Trainable params: 153,701\n",
      "Non-trainable params: 400\n",
      "__________________________________________________________________________________________________\n"
     ]
    }
   ],
   "source": [
    "model = Model(inputs=input_train, outputs=out)\n",
    "opt = Adam(lr=0.01, clipnorm=1)\n",
    "model.compile(loss='mean_squared_error', optimizer=opt, metrics=['mae'])\n",
    "model.summary()"
   ]
  },
  {
   "cell_type": "code",
   "execution_count": 18,
   "metadata": {},
   "outputs": [
    {
     "data": {
      "image/png": "[encoded data removed]",
      "text/plain": [
       "<IPython.core.display.Image object>"
      ]
     },
     "execution_count": 18,
     "metadata": {},
     "output_type": "execute_result"
    }
   ],
   "source": [
    "plot_model(model, to_file='model_plot.png', show_shapes=True, show_layer_names=True)"
   ]
  },
  {
   "cell_type": "code",
   "execution_count": 19,
   "metadata": {},
   "outputs": [
    {
     "data": {
      "text/plain": [
       "(1413, 49, 82)"
      ]
     },
     "metadata": {},
     "output_type": "display_data"
    },
    {
     "data": {
      "text/plain": [
       "(1413, 21, 2)"
      ]
     },
     "metadata": {},
     "output_type": "display_data"
    }
   ],
   "source": [
    "display(X_input_train.shape, X_output_train.shape)"
   ]
  },
  {
   "cell_type": "code",
   "execution_count": 20,
   "metadata": {},
   "outputs": [
    {
     "data": {
      "text/plain": [
       "array([[[8.84043857e-01, 8.81581207e-01, 8.78460497e-01, ...,\n",
       "         7.66724504e-01, 8.43668237e-01, 0.00000000e+00],\n",
       "        [8.84043857e-01, 8.81581207e-01, 8.78460497e-01, ...,\n",
       "         7.67688452e-01, 8.41313448e-01, 1.00000000e+00],\n",
       "        [8.84043857e-01, 8.81581207e-01, 8.78460497e-01, ...,\n",
       "         7.68652400e-01, 8.38958660e-01, 2.00000000e+00],\n",
       "        ...,\n",
       "        [7.70702605e-01, 7.63258207e-01, 7.60574811e-01, ...,\n",
       "         8.11066127e-01, 7.35347985e-01, 4.60000000e+01],\n",
       "        [7.81541168e-01, 7.83270596e-01, 7.64943187e-01, ...,\n",
       "         8.12030075e-01, 7.32993197e-01, 4.70000000e+01],\n",
       "        [7.89384864e-01, 7.83604136e-01, 7.80268309e-01, ...,\n",
       "         8.12994024e-01, 7.30638409e-01, 4.80000000e+01]],\n",
       "\n",
       "       [[8.84043857e-01, 8.81581207e-01, 8.78460497e-01, ...,\n",
       "         7.67688452e-01, 8.41313448e-01, 1.00000000e+00],\n",
       "        [8.84043857e-01, 8.81581207e-01, 8.78460497e-01, ...,\n",
       "         7.68652400e-01, 8.38958660e-01, 2.00000000e+00],\n",
       "        [8.68701274e-01, 8.49716491e-01, 8.47011363e-01, ...,\n",
       "         7.69616349e-01, 8.36603872e-01, 3.00000000e+00],\n",
       "        ...,\n",
       "        [7.81541168e-01, 7.83270596e-01, 7.64943187e-01, ...,\n",
       "         8.12030075e-01, 7.32993197e-01, 4.70000000e+01],\n",
       "        [7.89384864e-01, 7.83604136e-01, 7.80268309e-01, ...,\n",
       "         8.12994024e-01, 7.30638409e-01, 4.80000000e+01],\n",
       "        [7.83727895e-01, 7.77552771e-01, 7.73608326e-01, ...,\n",
       "         8.13957972e-01, 7.28283621e-01, 4.90000000e+01]],\n",
       "\n",
       "       [[8.84043857e-01, 8.81581207e-01, 8.78460497e-01, ...,\n",
       "         7.68652400e-01, 8.38958660e-01, 2.00000000e+00],\n",
       "        [8.68701274e-01, 8.49716491e-01, 8.47011363e-01, ...,\n",
       "         7.69616349e-01, 8.36603872e-01, 3.00000000e+00],\n",
       "        [8.56864423e-01, 8.55005480e-01, 8.47273943e-01, ...,\n",
       "         7.70580297e-01, 8.34249084e-01, 4.00000000e+00],\n",
       "        ...,\n",
       "        [7.89384864e-01, 7.83604136e-01, 7.80268309e-01, ...,\n",
       "         8.12994024e-01, 7.30638409e-01, 4.80000000e+01],\n",
       "        [7.83727895e-01, 7.77552771e-01, 7.73608326e-01, ...,\n",
       "         8.13957972e-01, 7.28283621e-01, 4.90000000e+01],\n",
       "        [7.85859162e-01, 7.81880847e-01, 7.76194341e-01, ...,\n",
       "         8.14921920e-01, 7.25928833e-01, 5.00000000e+01]],\n",
       "\n",
       "       ...,\n",
       "\n",
       "       [[9.64156684e-01, 9.65693048e-01, 9.62140743e-01, ...,\n",
       "         8.28417197e-01, 9.76190476e-01, 1.41000000e+03],\n",
       "        [9.68886670e-01, 9.69409635e-01, 9.67225246e-01, ...,\n",
       "         8.28224407e-01, 9.76190476e-01, 1.41100000e+03],\n",
       "        [9.66367180e-01, 9.66931910e-01, 9.63262675e-01, ...,\n",
       "         8.28031618e-01, 9.76190476e-01, 1.41200000e+03],\n",
       "        ...,\n",
       "        [1.00000000e+00, 1.00000000e+00, 1.00000000e+00, ...,\n",
       "         8.39598997e-01, 9.62585034e-01, 1.45600000e+03],\n",
       "        [9.99001711e-01, 9.97164912e-01, 9.97811834e-01, ...,\n",
       "         8.40177366e-01, 9.62061748e-01, 1.45700000e+03],\n",
       "        [9.98003423e-01, 9.94329823e-01, 9.95623667e-01, ...,\n",
       "         8.40755735e-01, 9.61538462e-01, 1.45800000e+03]],\n",
       "\n",
       "       [[9.68886670e-01, 9.69409635e-01, 9.67225246e-01, ...,\n",
       "         8.28224407e-01, 9.76190476e-01, 1.41100000e+03],\n",
       "        [9.66367180e-01, 9.66931910e-01, 9.63262675e-01, ...,\n",
       "         8.28031618e-01, 9.76190476e-01, 1.41200000e+03],\n",
       "        [9.65012360e-01, 9.63477391e-01, 9.65291702e-01, ...,\n",
       "         8.27838828e-01, 9.76190476e-01, 1.41300000e+03],\n",
       "        ...,\n",
       "        [9.99001711e-01, 9.97164912e-01, 9.97811834e-01, ...,\n",
       "         8.40177366e-01, 9.62061748e-01, 1.45700000e+03],\n",
       "        [9.98003423e-01, 9.94329823e-01, 9.95623667e-01, ...,\n",
       "         8.40755735e-01, 9.61538462e-01, 1.45800000e+03],\n",
       "        [9.97005134e-01, 9.91494735e-01, 9.93435501e-01, ...,\n",
       "         8.41334104e-01, 9.61015175e-01, 1.45900000e+03]],\n",
       "\n",
       "       [[9.66367180e-01, 9.66931910e-01, 9.63262675e-01, ...,\n",
       "         8.28031618e-01, 9.76190476e-01, 1.41200000e+03],\n",
       "        [9.65012360e-01, 9.63477391e-01, 9.65291702e-01, ...,\n",
       "         8.27838828e-01, 9.76190476e-01, 1.41300000e+03],\n",
       "        [9.66771249e-01, 9.67360747e-01, 9.63214934e-01, ...,\n",
       "         8.27646038e-01, 9.76190476e-01, 1.41400000e+03],\n",
       "        ...,\n",
       "        [9.98003423e-01, 9.94329823e-01, 9.95623667e-01, ...,\n",
       "         8.40755735e-01, 9.61538462e-01, 1.45800000e+03],\n",
       "        [9.97005134e-01, 9.91494735e-01, 9.93435501e-01, ...,\n",
       "         8.41334104e-01, 9.61015175e-01, 1.45900000e+03],\n",
       "        [9.89304050e-01, 9.90708534e-01, 9.90666476e-01, ...,\n",
       "         8.41912473e-01, 9.60491889e-01, 1.46000000e+03]]])"
      ]
     },
     "metadata": {},
     "output_type": "display_data"
    },
    {
     "data": {
      "text/plain": [
       "array([[[0.88404386, 0.88158121, 0.8784605 , ..., 0.82926165,\n",
       "         0.7667245 , 0.84366824],\n",
       "        [0.88404386, 0.88158121, 0.8784605 , ..., 0.82935247,\n",
       "         0.76768845, 0.84131345],\n",
       "        [0.88404386, 0.88158121, 0.8784605 , ..., 0.82944328,\n",
       "         0.7686524 , 0.83895866],\n",
       "        ...,\n",
       "        [0.77070261, 0.76325821, 0.76057481, ..., 0.83343929,\n",
       "         0.81106613, 0.73534799],\n",
       "        [0.78154117, 0.7832706 , 0.76494319, ..., 0.83353011,\n",
       "         0.81203008, 0.7329932 ],\n",
       "        [0.78938486, 0.78360414, 0.78026831, ..., 0.83362092,\n",
       "         0.81299402, 0.73063841]],\n",
       "\n",
       "       [[0.88404386, 0.88158121, 0.8784605 , ..., 0.82935247,\n",
       "         0.76768845, 0.84131345],\n",
       "        [0.88404386, 0.88158121, 0.8784605 , ..., 0.82944328,\n",
       "         0.7686524 , 0.83895866],\n",
       "        [0.86870127, 0.84971649, 0.84701136, ..., 0.8295341 ,\n",
       "         0.76961635, 0.83660387],\n",
       "        ...,\n",
       "        [0.78154117, 0.7832706 , 0.76494319, ..., 0.83353011,\n",
       "         0.81203008, 0.7329932 ],\n",
       "        [0.78938486, 0.78360414, 0.78026831, ..., 0.83362092,\n",
       "         0.81299402, 0.73063841],\n",
       "        [0.7837279 , 0.77755277, 0.77360833, ..., 0.83371174,\n",
       "         0.81395797, 0.72828362]],\n",
       "\n",
       "       [[0.88404386, 0.88158121, 0.8784605 , ..., 0.82944328,\n",
       "         0.7686524 , 0.83895866],\n",
       "        [0.86870127, 0.84971649, 0.84701136, ..., 0.8295341 ,\n",
       "         0.76961635, 0.83660387],\n",
       "        [0.85686442, 0.85500548, 0.84727394, ..., 0.82962492,\n",
       "         0.7705803 , 0.83424908],\n",
       "        ...,\n",
       "        [0.78938486, 0.78360414, 0.78026831, ..., 0.83362092,\n",
       "         0.81299402, 0.73063841],\n",
       "        [0.7837279 , 0.77755277, 0.77360833, ..., 0.83371174,\n",
       "         0.81395797, 0.72828362],\n",
       "        [0.78585916, 0.78188085, 0.77619434, ..., 0.83380256,\n",
       "         0.81492192, 0.72592883]],\n",
       "\n",
       "       ...,\n",
       "\n",
       "       [[0.96415668, 0.96569305, 0.96214074, ..., 0.92462083,\n",
       "         0.8284172 , 0.97619048],\n",
       "        [0.96888667, 0.96940963, 0.96722525, ..., 0.92425756,\n",
       "         0.82822441, 0.97619048],\n",
       "        [0.96636718, 0.96693191, 0.96326268, ..., 0.92389429,\n",
       "         0.82803162, 0.97619048],\n",
       "        ...,\n",
       "        [1.        , 1.        , 1.        , ..., 0.91263282,\n",
       "         0.839599  , 0.96258503],\n",
       "        [0.99900171, 0.99716491, 0.99781183, ..., 0.91245119,\n",
       "         0.84017737, 0.96206175],\n",
       "        [0.99800342, 0.99432982, 0.99562367, ..., 0.91226955,\n",
       "         0.84075574, 0.96153846]],\n",
       "\n",
       "       [[0.96888667, 0.96940963, 0.96722525, ..., 0.92425756,\n",
       "         0.82822441, 0.97619048],\n",
       "        [0.96636718, 0.96693191, 0.96326268, ..., 0.92389429,\n",
       "         0.82803162, 0.97619048],\n",
       "        [0.96501236, 0.96347739, 0.9652917 , ..., 0.92353101,\n",
       "         0.82783883, 0.97619048],\n",
       "        ...,\n",
       "        [0.99900171, 0.99716491, 0.99781183, ..., 0.91245119,\n",
       "         0.84017737, 0.96206175],\n",
       "        [0.99800342, 0.99432982, 0.99562367, ..., 0.91226955,\n",
       "         0.84075574, 0.96153846],\n",
       "        [0.99700513, 0.99149473, 0.9934355 , ..., 0.91208791,\n",
       "         0.8413341 , 0.96101518]],\n",
       "\n",
       "       [[0.96636718, 0.96693191, 0.96326268, ..., 0.92389429,\n",
       "         0.82803162, 0.97619048],\n",
       "        [0.96501236, 0.96347739, 0.9652917 , ..., 0.92353101,\n",
       "         0.82783883, 0.97619048],\n",
       "        [0.96677125, 0.96736075, 0.96321493, ..., 0.92316774,\n",
       "         0.82764604, 0.97619048],\n",
       "        ...,\n",
       "        [0.99800342, 0.99432982, 0.99562367, ..., 0.91226955,\n",
       "         0.84075574, 0.96153846],\n",
       "        [0.99700513, 0.99149473, 0.9934355 , ..., 0.91208791,\n",
       "         0.8413341 , 0.96101518],\n",
       "        [0.98930405, 0.99070853, 0.99066648, ..., 0.91190628,\n",
       "         0.84191247, 0.96049189]]])"
      ]
     },
     "metadata": {},
     "output_type": "display_data"
    },
    {
     "data": {
      "text/plain": [
       "array([[[1.31600000e-01, 4.90000000e+01],\n",
       "        [1.30957143e-01, 5.00000000e+01],\n",
       "        [1.30314286e-01, 5.10000000e+01],\n",
       "        ...,\n",
       "        [1.23242857e-01, 6.70000000e+01],\n",
       "        [1.23228571e-01, 6.80000000e+01],\n",
       "        [1.23214286e-01, 6.90000000e+01]],\n",
       "\n",
       "       [[1.30957143e-01, 5.00000000e+01],\n",
       "        [1.30314286e-01, 5.10000000e+01],\n",
       "        [1.29671429e-01, 5.20000000e+01],\n",
       "        ...,\n",
       "        [1.23228571e-01, 6.80000000e+01],\n",
       "        [1.23214286e-01, 6.90000000e+01],\n",
       "        [1.23200000e-01, 7.00000000e+01]],\n",
       "\n",
       "       [[1.30314286e-01, 5.10000000e+01],\n",
       "        [1.29671429e-01, 5.20000000e+01],\n",
       "        [1.29028571e-01, 5.30000000e+01],\n",
       "        ...,\n",
       "        [1.23214286e-01, 6.90000000e+01],\n",
       "        [1.23200000e-01, 7.00000000e+01],\n",
       "        [1.15528571e-01, 7.10000000e+01]],\n",
       "\n",
       "       ...,\n",
       "\n",
       "       [[1.95142857e-02, 1.45900000e+03],\n",
       "        [2.30857143e-02, 1.46000000e+03],\n",
       "        [2.66571429e-02, 1.46100000e+03],\n",
       "        ...,\n",
       "        [1.34000000e-02, 1.47700000e+03],\n",
       "        [1.51285714e-02, 1.47800000e+03],\n",
       "        [1.68571429e-02, 1.47900000e+03]],\n",
       "\n",
       "       [[2.30857143e-02, 1.46000000e+03],\n",
       "        [2.66571429e-02, 1.46100000e+03],\n",
       "        [3.02285714e-02, 1.46200000e+03],\n",
       "        ...,\n",
       "        [1.51285714e-02, 1.47800000e+03],\n",
       "        [1.68571429e-02, 1.47900000e+03],\n",
       "        [1.85857143e-02, 1.48000000e+03]],\n",
       "\n",
       "       [[2.66571429e-02, 1.46100000e+03],\n",
       "        [3.02285714e-02, 1.46200000e+03],\n",
       "        [3.38000000e-02, 1.46300000e+03],\n",
       "        ...,\n",
       "        [1.68571429e-02, 1.47900000e+03],\n",
       "        [1.85857143e-02, 1.48000000e+03],\n",
       "        [2.03142857e-02, 1.48100000e+03]]])"
      ]
     },
     "metadata": {},
     "output_type": "display_data"
    },
    {
     "data": {
      "text/plain": [
       "array([[[0.1316    ],\n",
       "        [0.13095714],\n",
       "        [0.13031429],\n",
       "        ...,\n",
       "        [0.12324286],\n",
       "        [0.12322857],\n",
       "        [0.12321429]],\n",
       "\n",
       "       [[0.13095714],\n",
       "        [0.13031429],\n",
       "        [0.12967143],\n",
       "        ...,\n",
       "        [0.12322857],\n",
       "        [0.12321429],\n",
       "        [0.1232    ]],\n",
       "\n",
       "       [[0.13031429],\n",
       "        [0.12967143],\n",
       "        [0.12902857],\n",
       "        ...,\n",
       "        [0.12321429],\n",
       "        [0.1232    ],\n",
       "        [0.11552857]],\n",
       "\n",
       "       ...,\n",
       "\n",
       "       [[0.01951429],\n",
       "        [0.02308571],\n",
       "        [0.02665714],\n",
       "        ...,\n",
       "        [0.0134    ],\n",
       "        [0.01512857],\n",
       "        [0.01685714]],\n",
       "\n",
       "       [[0.02308571],\n",
       "        [0.02665714],\n",
       "        [0.03022857],\n",
       "        ...,\n",
       "        [0.01512857],\n",
       "        [0.01685714],\n",
       "        [0.01858571]],\n",
       "\n",
       "       [[0.02665714],\n",
       "        [0.03022857],\n",
       "        [0.0338    ],\n",
       "        ...,\n",
       "        [0.01685714],\n",
       "        [0.01858571],\n",
       "        [0.02031429]]])"
      ]
     },
     "metadata": {},
     "output_type": "display_data"
    },
    {
     "data": {
      "text/plain": [
       "array([[[0.1316    ],\n",
       "        [0.13095714],\n",
       "        [0.13031429],\n",
       "        ...,\n",
       "        [0.12324286],\n",
       "        [0.12322857],\n",
       "        [0.12321429]],\n",
       "\n",
       "       [[0.13095714],\n",
       "        [0.13031429],\n",
       "        [0.12967143],\n",
       "        ...,\n",
       "        [0.12322857],\n",
       "        [0.12321429],\n",
       "        [0.1232    ]],\n",
       "\n",
       "       [[0.13031429],\n",
       "        [0.12967143],\n",
       "        [0.12902857],\n",
       "        ...,\n",
       "        [0.12321429],\n",
       "        [0.1232    ],\n",
       "        [0.11552857]],\n",
       "\n",
       "       ...,\n",
       "\n",
       "       [[0.01951429],\n",
       "        [0.02308571],\n",
       "        [0.02665714],\n",
       "        ...,\n",
       "        [0.0134    ],\n",
       "        [0.01512857],\n",
       "        [0.01685714]],\n",
       "\n",
       "       [[0.02308571],\n",
       "        [0.02665714],\n",
       "        [0.03022857],\n",
       "        ...,\n",
       "        [0.01512857],\n",
       "        [0.01685714],\n",
       "        [0.01858571]],\n",
       "\n",
       "       [[0.02665714],\n",
       "        [0.03022857],\n",
       "        [0.0338    ],\n",
       "        ...,\n",
       "        [0.01685714],\n",
       "        [0.01858571],\n",
       "        [0.02031429]]])"
      ]
     },
     "metadata": {},
     "output_type": "display_data"
    }
   ],
   "source": [
    "#Checks on 3d array indexing\n",
    "display(X_input_train[:, :, :])\n",
    "display(X_input_train[:, :, :-1])\n",
    "\n",
    "display(X_output_train[:, :, :])\n",
    "display(X_output_train[:, :, :1])\n",
    "display(X_output_train[:, :, :-1])"
   ]
  },
  {
   "cell_type": "code",
   "execution_count": 21,
   "metadata": {},
   "outputs": [
    {
     "data": {
      "text/plain": [
       "((1413, 49, 81), (1413, 21, 1))"
      ]
     },
     "execution_count": 21,
     "metadata": {},
     "output_type": "execute_result"
    }
   ],
   "source": [
    "X_input_train[:, :, :-1].shape, X_output_train[:, :, :-1].shape"
   ]
  },
  {
   "cell_type": "code",
   "execution_count": 22,
   "metadata": {},
   "outputs": [
    {
     "name": "stdout",
     "output_type": "stream",
     "text": [
      "False\n"
     ]
    }
   ],
   "source": [
    "array_sum = np.sum(X_input_train)\n",
    "array_has_nan = np.isnan(array_sum)\n",
    "print(array_has_nan)"
   ]
  },
  {
   "cell_type": "code",
   "execution_count": 39,
   "metadata": {
    "scrolled": true
   },
   "outputs": [
    {
     "name": "stdout",
     "output_type": "stream",
     "text": [
      "Epoch 1/100\n",
      "2/2 [==============================] - 0s 198ms/step - loss: 0.0010 - mae: 0.0242 - val_loss: 8.8098e-04 - val_mae: 0.0227\n",
      "Epoch 2/100\n",
      "2/2 [==============================] - 0s 162ms/step - loss: 9.9316e-04 - mae: 0.0233 - val_loss: 0.0012 - val_mae: 0.0287\n",
      "Epoch 3/100\n",
      "2/2 [==============================] - 0s 147ms/step - loss: 9.1639e-04 - mae: 0.0236 - val_loss: 6.8414e-04 - val_mae: 0.0226\n",
      "Epoch 4/100\n",
      "2/2 [==============================] - 0s 164ms/step - loss: 9.0374e-04 - mae: 0.0229 - val_loss: 5.8903e-04 - val_mae: 0.0210\n",
      "Epoch 5/100\n",
      "2/2 [==============================] - 0s 160ms/step - loss: 9.2088e-04 - mae: 0.0227 - val_loss: 7.9661e-04 - val_mae: 0.0241\n",
      "Epoch 6/100\n",
      "2/2 [==============================] - 0s 167ms/step - loss: 9.4065e-04 - mae: 0.0244 - val_loss: 7.2719e-04 - val_mae: 0.0232\n",
      "Epoch 7/100\n",
      "2/2 [==============================] - 0s 159ms/step - loss: 9.2461e-04 - mae: 0.0239 - val_loss: 5.7873e-04 - val_mae: 0.0207\n",
      "Epoch 8/100\n",
      "2/2 [==============================] - 0s 167ms/step - loss: 9.3780e-04 - mae: 0.0228 - val_loss: 5.9457e-04 - val_mae: 0.0211\n",
      "Epoch 9/100\n",
      "2/2 [==============================] - 0s 165ms/step - loss: 9.0525e-04 - mae: 0.0230 - val_loss: 6.1163e-04 - val_mae: 0.0214\n",
      "Epoch 10/100\n",
      "2/2 [==============================] - 0s 160ms/step - loss: 8.7221e-04 - mae: 0.0227 - val_loss: 6.2589e-04 - val_mae: 0.0217\n",
      "Epoch 11/100\n",
      "2/2 [==============================] - 0s 165ms/step - loss: 8.7812e-04 - mae: 0.0227 - val_loss: 6.9464e-04 - val_mae: 0.0227\n",
      "Epoch 12/100\n",
      "2/2 [==============================] - 0s 149ms/step - loss: 8.9499e-04 - mae: 0.0229 - val_loss: 7.3961e-04 - val_mae: 0.0233\n",
      "Epoch 13/100\n",
      "2/2 [==============================] - 0s 165ms/step - loss: 8.8290e-04 - mae: 0.0232 - val_loss: 6.5698e-04 - val_mae: 0.0222\n",
      "Epoch 14/100\n",
      "2/2 [==============================] - 0s 157ms/step - loss: 8.8123e-04 - mae: 0.0228 - val_loss: 5.7521e-04 - val_mae: 0.0206\n",
      "Epoch 15/100\n",
      "2/2 [==============================] - 0s 170ms/step - loss: 9.0052e-04 - mae: 0.0224 - val_loss: 6.3139e-04 - val_mae: 0.0218\n",
      "Epoch 16/100\n",
      "2/2 [==============================] - 0s 170ms/step - loss: 8.6232e-04 - mae: 0.0225 - val_loss: 7.4626e-04 - val_mae: 0.0234\n",
      "Epoch 17/100\n",
      "2/2 [==============================] - 0s 167ms/step - loss: 9.0257e-04 - mae: 0.0233 - val_loss: 6.6351e-04 - val_mae: 0.0223\n",
      "Epoch 18/100\n",
      "2/2 [==============================] - 0s 164ms/step - loss: 8.7022e-04 - mae: 0.0226 - val_loss: 6.0718e-04 - val_mae: 0.0214\n",
      "Epoch 19/100\n",
      "2/2 [==============================] - 0s 163ms/step - loss: 8.7594e-04 - mae: 0.0224 - val_loss: 6.0494e-04 - val_mae: 0.0213\n",
      "Epoch 20/100\n",
      "2/2 [==============================] - 0s 158ms/step - loss: 8.8956e-04 - mae: 0.0227 - val_loss: 5.7879e-04 - val_mae: 0.0207\n",
      "Epoch 21/100\n",
      "2/2 [==============================] - 0s 164ms/step - loss: 8.8592e-04 - mae: 0.0227 - val_loss: 5.7802e-04 - val_mae: 0.0207\n",
      "Epoch 22/100\n",
      "2/2 [==============================] - 0s 166ms/step - loss: 8.8471e-04 - mae: 0.0225 - val_loss: 5.9353e-04 - val_mae: 0.0211\n",
      "Epoch 23/100\n",
      "2/2 [==============================] - 0s 167ms/step - loss: 8.7384e-04 - mae: 0.0223 - val_loss: 6.1916e-04 - val_mae: 0.0216\n",
      "Epoch 24/100\n",
      "2/2 [==============================] - 0s 174ms/step - loss: 8.6511e-04 - mae: 0.0225 - val_loss: 6.5917e-04 - val_mae: 0.0222\n",
      "Epoch 25/100\n",
      "2/2 [==============================] - 0s 171ms/step - loss: 8.6211e-04 - mae: 0.0227 - val_loss: 6.4978e-04 - val_mae: 0.0221\n",
      "Epoch 26/100\n",
      "2/2 [==============================] - 0s 174ms/step - loss: 8.6299e-04 - mae: 0.0226 - val_loss: 6.0644e-04 - val_mae: 0.0213\n",
      "Epoch 27/100\n",
      "2/2 [==============================] - 0s 248ms/step - loss: 8.6228e-04 - mae: 0.0224 - val_loss: 6.5429e-04 - val_mae: 0.0221\n",
      "Epoch 28/100\n",
      "2/2 [==============================] - 0s 159ms/step - loss: 8.5776e-04 - mae: 0.0226 - val_loss: 6.4382e-04 - val_mae: 0.0220\n",
      "Epoch 29/100\n",
      "2/2 [==============================] - 0s 160ms/step - loss: 8.6990e-04 - mae: 0.0227 - val_loss: 5.8823e-04 - val_mae: 0.0210\n",
      "Epoch 30/100\n",
      "2/2 [==============================] - 0s 163ms/step - loss: 8.7100e-04 - mae: 0.0222 - val_loss: 6.0021e-04 - val_mae: 0.0212\n",
      "Epoch 31/100\n",
      "2/2 [==============================] - 0s 165ms/step - loss: 8.4859e-04 - mae: 0.0221 - val_loss: 6.5950e-04 - val_mae: 0.0222\n",
      "Epoch 32/100\n",
      "2/2 [==============================] - 0s 164ms/step - loss: 8.9884e-04 - mae: 0.0233 - val_loss: 6.6423e-04 - val_mae: 0.0223\n",
      "Epoch 33/100\n",
      "2/2 [==============================] - 0s 165ms/step - loss: 8.6432e-04 - mae: 0.0227 - val_loss: 6.4610e-04 - val_mae: 0.0220\n",
      "Epoch 34/100\n",
      "2/2 [==============================] - 0s 161ms/step - loss: 8.9338e-04 - mae: 0.0228 - val_loss: 6.4403e-04 - val_mae: 0.0220\n",
      "Epoch 35/100\n",
      "2/2 [==============================] - 0s 175ms/step - loss: 8.6003e-04 - mae: 0.0225 - val_loss: 6.1628e-04 - val_mae: 0.0215\n",
      "Epoch 36/100\n",
      "2/2 [==============================] - 0s 161ms/step - loss: 8.6763e-04 - mae: 0.0225 - val_loss: 6.1934e-04 - val_mae: 0.0216\n",
      "Epoch 37/100\n",
      "2/2 [==============================] - 0s 153ms/step - loss: 8.7405e-04 - mae: 0.0225 - val_loss: 6.1357e-04 - val_mae: 0.0215\n",
      "Epoch 38/100\n",
      "2/2 [==============================] - 0s 163ms/step - loss: 8.6092e-04 - mae: 0.0224 - val_loss: 6.0173e-04 - val_mae: 0.0212\n",
      "Epoch 39/100\n",
      "2/2 [==============================] - 0s 161ms/step - loss: 8.6064e-04 - mae: 0.0223 - val_loss: 6.3534e-04 - val_mae: 0.0218\n",
      "Epoch 40/100\n",
      "2/2 [==============================] - 0s 159ms/step - loss: 8.7007e-04 - mae: 0.0227 - val_loss: 6.2009e-04 - val_mae: 0.0216\n",
      "Epoch 41/100\n",
      "2/2 [==============================] - 0s 171ms/step - loss: 8.7309e-04 - mae: 0.0224 - val_loss: 6.1925e-04 - val_mae: 0.0216\n",
      "Epoch 42/100\n",
      "2/2 [==============================] - 0s 167ms/step - loss: 8.7851e-04 - mae: 0.0225 - val_loss: 6.4115e-04 - val_mae: 0.0219\n",
      "Epoch 43/100\n",
      "2/2 [==============================] - 0s 169ms/step - loss: 8.5808e-04 - mae: 0.0226 - val_loss: 6.6374e-04 - val_mae: 0.0223\n",
      "Epoch 44/100\n",
      "2/2 [==============================] - 0s 162ms/step - loss: 8.7713e-04 - mae: 0.0230 - val_loss: 5.9841e-04 - val_mae: 0.0212\n",
      "Epoch 45/100\n",
      "2/2 [==============================] - 0s 174ms/step - loss: 8.8383e-04 - mae: 0.0226 - val_loss: 6.1458e-04 - val_mae: 0.0215\n",
      "Epoch 46/100\n",
      "2/2 [==============================] - 0s 168ms/step - loss: 8.7290e-04 - mae: 0.0227 - val_loss: 6.6775e-04 - val_mae: 0.0223\n",
      "Epoch 47/100\n",
      "2/2 [==============================] - 0s 161ms/step - loss: 8.8381e-04 - mae: 0.0228 - val_loss: 6.0610e-04 - val_mae: 0.0213\n",
      "Epoch 48/100\n",
      "2/2 [==============================] - 0s 168ms/step - loss: 8.7832e-04 - mae: 0.0224 - val_loss: 6.3901e-04 - val_mae: 0.0219\n",
      "Epoch 49/100\n",
      "2/2 [==============================] - 0s 172ms/step - loss: 8.5638e-04 - mae: 0.0226 - val_loss: 6.5048e-04 - val_mae: 0.0221\n",
      "Epoch 50/100\n",
      "2/2 [==============================] - 0s 163ms/step - loss: 9.5215e-04 - mae: 0.0232 - val_loss: 5.7319e-04 - val_mae: 0.0205\n",
      "Epoch 51/100\n",
      "2/2 [==============================] - 0s 166ms/step - loss: 8.9261e-04 - mae: 0.0225 - val_loss: 5.9311e-04 - val_mae: 0.0211\n",
      "Epoch 52/100\n",
      "2/2 [==============================] - 0s 162ms/step - loss: 8.7524e-04 - mae: 0.0227 - val_loss: 6.2635e-04 - val_mae: 0.0217\n",
      "Epoch 53/100\n",
      "2/2 [==============================] - 0s 166ms/step - loss: 8.7298e-04 - mae: 0.0228 - val_loss: 6.1349e-04 - val_mae: 0.0215\n",
      "Epoch 54/100\n",
      "2/2 [==============================] - 0s 178ms/step - loss: 8.7523e-04 - mae: 0.0228 - val_loss: 5.8306e-04 - val_mae: 0.0208\n",
      "Epoch 55/100\n",
      "2/2 [==============================] - 0s 167ms/step - loss: 8.5644e-04 - mae: 0.0222 - val_loss: 5.8869e-04 - val_mae: 0.0210\n",
      "Epoch 56/100\n",
      "2/2 [==============================] - 0s 172ms/step - loss: 8.9767e-04 - mae: 0.0227 - val_loss: 5.7638e-04 - val_mae: 0.0206\n",
      "Epoch 57/100\n",
      "2/2 [==============================] - 0s 161ms/step - loss: 8.7151e-04 - mae: 0.0221 - val_loss: 5.9601e-04 - val_mae: 0.0211\n",
      "Epoch 58/100\n",
      "2/2 [==============================] - 0s 159ms/step - loss: 8.5774e-04 - mae: 0.0225 - val_loss: 6.6029e-04 - val_mae: 0.0222\n",
      "Epoch 59/100\n"
     ]
    },
    {
     "name": "stdout",
     "output_type": "stream",
     "text": [
      "2/2 [==============================] - 0s 171ms/step - loss: 8.6103e-04 - mae: 0.0229 - val_loss: 6.0875e-04 - val_mae: 0.0214\n",
      "Epoch 60/100\n",
      "2/2 [==============================] - 0s 164ms/step - loss: 8.6272e-04 - mae: 0.0224 - val_loss: 6.4709e-04 - val_mae: 0.0220\n",
      "Epoch 61/100\n",
      "2/2 [==============================] - 0s 168ms/step - loss: 8.6706e-04 - mae: 0.0227 - val_loss: 7.0998e-04 - val_mae: 0.0229\n",
      "Epoch 62/100\n",
      "2/2 [==============================] - 0s 162ms/step - loss: 8.8891e-04 - mae: 0.0234 - val_loss: 5.8714e-04 - val_mae: 0.0209\n",
      "Epoch 63/100\n",
      "2/2 [==============================] - 0s 178ms/step - loss: 8.8669e-04 - mae: 0.0225 - val_loss: 6.2498e-04 - val_mae: 0.0217\n",
      "Epoch 64/100\n",
      "2/2 [==============================] - 0s 164ms/step - loss: 8.8826e-04 - mae: 0.0225 - val_loss: 6.5267e-04 - val_mae: 0.0221\n",
      "Epoch 65/100\n",
      "2/2 [==============================] - 0s 165ms/step - loss: 8.7485e-04 - mae: 0.0225 - val_loss: 6.1033e-04 - val_mae: 0.0214\n",
      "Epoch 66/100\n",
      "2/2 [==============================] - 0s 164ms/step - loss: 8.6417e-04 - mae: 0.0223 - val_loss: 7.0277e-04 - val_mae: 0.0228\n",
      "Epoch 67/100\n",
      "2/2 [==============================] - 0s 182ms/step - loss: 8.7068e-04 - mae: 0.0230 - val_loss: 6.6654e-04 - val_mae: 0.0223\n",
      "Epoch 68/100\n",
      "2/2 [==============================] - 0s 187ms/step - loss: 8.5627e-04 - mae: 0.0225 - val_loss: 5.8122e-04 - val_mae: 0.0208\n",
      "Epoch 69/100\n",
      "2/2 [==============================] - 0s 167ms/step - loss: 9.0151e-04 - mae: 0.0225 - val_loss: 6.5488e-04 - val_mae: 0.0222\n",
      "Epoch 70/100\n",
      "2/2 [==============================] - 0s 170ms/step - loss: 8.7470e-04 - mae: 0.0229 - val_loss: 6.5488e-04 - val_mae: 0.0222\n",
      "Epoch 71/100\n",
      "2/2 [==============================] - 0s 179ms/step - loss: 8.5000e-04 - mae: 0.0225 - val_loss: 6.1222e-04 - val_mae: 0.0214\n",
      "Epoch 72/100\n",
      "2/2 [==============================] - 0s 164ms/step - loss: 8.6269e-04 - mae: 0.0223 - val_loss: 6.2315e-04 - val_mae: 0.0216\n",
      "Epoch 73/100\n",
      "2/2 [==============================] - 0s 165ms/step - loss: 8.4558e-04 - mae: 0.0224 - val_loss: 6.0670e-04 - val_mae: 0.0213\n",
      "Epoch 74/100\n",
      "2/2 [==============================] - 0s 170ms/step - loss: 8.6314e-04 - mae: 0.0225 - val_loss: 5.9563e-04 - val_mae: 0.0211\n",
      "Epoch 75/100\n",
      "2/2 [==============================] - 0s 249ms/step - loss: 8.5627e-04 - mae: 0.0221 - val_loss: 7.2698e-04 - val_mae: 0.0232\n",
      "Epoch 76/100\n",
      "2/2 [==============================] - 0s 170ms/step - loss: 8.7833e-04 - mae: 0.0234 - val_loss: 6.9228e-04 - val_mae: 0.0227\n",
      "Epoch 77/100\n",
      "2/2 [==============================] - 0s 160ms/step - loss: 8.6070e-04 - mae: 0.0227 - val_loss: 5.8030e-04 - val_mae: 0.0208\n",
      "Epoch 78/100\n",
      "2/2 [==============================] - 0s 167ms/step - loss: 9.6001e-04 - mae: 0.0230 - val_loss: 7.1757e-04 - val_mae: 0.0230\n",
      "Epoch 79/100\n",
      "2/2 [==============================] - 0s 164ms/step - loss: 8.8482e-04 - mae: 0.0233 - val_loss: 7.3174e-04 - val_mae: 0.0232\n",
      "Epoch 80/100\n",
      "2/2 [==============================] - 0s 158ms/step - loss: 9.3158e-04 - mae: 0.0239 - val_loss: 5.7066e-04 - val_mae: 0.0204\n",
      "Epoch 81/100\n",
      "2/2 [==============================] - 0s 163ms/step - loss: 9.0389e-04 - mae: 0.0224 - val_loss: 6.2348e-04 - val_mae: 0.0216\n",
      "Epoch 82/100\n",
      "2/2 [==============================] - 0s 152ms/step - loss: 8.6005e-04 - mae: 0.0227 - val_loss: 6.5802e-04 - val_mae: 0.0222\n",
      "Epoch 83/100\n",
      "2/2 [==============================] - 0s 157ms/step - loss: 8.8102e-04 - mae: 0.0233 - val_loss: 5.6696e-04 - val_mae: 0.0201\n",
      "Epoch 84/100\n",
      "2/2 [==============================] - 0s 176ms/step - loss: 9.3158e-04 - mae: 0.0226 - val_loss: 5.8987e-04 - val_mae: 0.0210\n",
      "Epoch 85/100\n",
      "2/2 [==============================] - 0s 166ms/step - loss: 9.0681e-04 - mae: 0.0228 - val_loss: 6.9337e-04 - val_mae: 0.0227\n",
      "Epoch 86/100\n",
      "2/2 [==============================] - 0s 158ms/step - loss: 9.0276e-04 - mae: 0.0237 - val_loss: 5.8194e-04 - val_mae: 0.0208\n",
      "Epoch 87/100\n",
      "2/2 [==============================] - 0s 166ms/step - loss: 8.7450e-04 - mae: 0.0222 - val_loss: 5.8980e-04 - val_mae: 0.0210\n",
      "Epoch 88/100\n",
      "2/2 [==============================] - 0s 169ms/step - loss: 8.9096e-04 - mae: 0.0223 - val_loss: 7.5907e-04 - val_mae: 0.0236\n",
      "Epoch 89/100\n",
      "2/2 [==============================] - 0s 167ms/step - loss: 8.8697e-04 - mae: 0.0234 - val_loss: 6.9799e-04 - val_mae: 0.0228\n",
      "Epoch 90/100\n",
      "2/2 [==============================] - 0s 148ms/step - loss: 8.6417e-04 - mae: 0.0227 - val_loss: 6.0572e-04 - val_mae: 0.0213\n",
      "Epoch 91/100\n",
      "2/2 [==============================] - 0s 164ms/step - loss: 8.9170e-04 - mae: 0.0225 - val_loss: 7.1770e-04 - val_mae: 0.0230\n",
      "Epoch 92/100\n",
      "2/2 [==============================] - 0s 162ms/step - loss: 8.6659e-04 - mae: 0.0231 - val_loss: 7.1959e-04 - val_mae: 0.0231\n",
      "Epoch 93/100\n",
      "2/2 [==============================] - 0s 159ms/step - loss: 8.6364e-04 - mae: 0.0230 - val_loss: 5.7440e-04 - val_mae: 0.0206\n",
      "Epoch 94/100\n",
      "2/2 [==============================] - 0s 166ms/step - loss: 8.8007e-04 - mae: 0.0222 - val_loss: 6.0783e-04 - val_mae: 0.0214\n",
      "Epoch 95/100\n",
      "2/2 [==============================] - 0s 168ms/step - loss: 8.4952e-04 - mae: 0.0222 - val_loss: 7.0750e-04 - val_mae: 0.0229\n",
      "Epoch 96/100\n",
      "2/2 [==============================] - 0s 151ms/step - loss: 8.5795e-04 - mae: 0.0230 - val_loss: 6.2534e-04 - val_mae: 0.0217\n",
      "Epoch 97/100\n",
      "2/2 [==============================] - 0s 168ms/step - loss: 8.5198e-04 - mae: 0.0222 - val_loss: 6.3181e-04 - val_mae: 0.0218\n",
      "Epoch 98/100\n",
      "2/2 [==============================] - 0s 166ms/step - loss: 8.7226e-04 - mae: 0.0224 - val_loss: 7.2461e-04 - val_mae: 0.0231\n",
      "Epoch 99/100\n",
      "2/2 [==============================] - 0s 162ms/step - loss: 8.6787e-04 - mae: 0.0231 - val_loss: 6.0383e-04 - val_mae: 0.0213\n",
      "Epoch 100/100\n",
      "2/2 [==============================] - 0s 169ms/step - loss: 8.5928e-04 - mae: 0.0222 - val_loss: 5.8867e-04 - val_mae: 0.0210\n"
     ]
    }
   ],
   "source": [
    "epc = 100\n",
    "es = EarlyStopping(monitor='val_loss', mode='min', patience=50)\n",
    "#model.load_weights('Forecasting_seq2seq.h5')\n",
    "history = model.fit(X_input_train[:, :, :-1], X_output_train[:, :, :-1], validation_split=0.2, \n",
    "                    epochs=epc, verbose=1,\n",
    "                    callbacks=[es], \n",
    "                    batch_size=1000)\n",
    "train_mae = history.history['mae']\n",
    "valid_mae = history.history['val_mae']\n",
    " \n",
    "model.save('Forecasting_seq2seq.h5')"
   ]
  },
  {
   "cell_type": "code",
   "execution_count": 36,
   "metadata": {},
   "outputs": [],
   "source": [
    "#valid_mae"
   ]
  },
  {
   "cell_type": "code",
   "execution_count": 40,
   "metadata": {
    "scrolled": true
   },
   "outputs": [
    {
     "data": {
      "image/png": "[encoded data removed]",
      "text/plain": [
       "<Figure size 1080x288 with 1 Axes>"
      ]
     },
     "metadata": {
      "needs_background": "light"
     },
     "output_type": "display_data"
    }
   ],
   "source": [
    "plt.figure(figsize=(15, 4))\n",
    "plt.plot(train_mae[10:], label='train mae'), \n",
    "plt.plot(valid_mae[10:], label='validation mae')\n",
    "plt.ylabel('mae')\n",
    "plt.xlabel('epoch')\n",
    "plt.title('train vs. validation accuracy (mae)')\n",
    "plt.legend(loc='upper center', fancybox=True, shadow=False, ncol=2)\n",
    "plt.show()"
   ]
  },
  {
   "cell_type": "markdown",
   "metadata": {},
   "source": [
    "# Predict"
   ]
  },
  {
   "cell_type": "code",
   "execution_count": 27,
   "metadata": {
    "scrolled": true
   },
   "outputs": [
    {
     "ename": "ValueError",
     "evalue": "in user code:\n\n    /home/skycam/venv3.6/lib/python3.6/site-packages/tensorflow/python/keras/engine/training.py:1478 predict_function  *\n        return step_function(self, iterator)\n    /home/skycam/venv3.6/lib/python3.6/site-packages/tensorflow/python/keras/engine/training.py:1468 step_function  **\n        outputs = model.distribute_strategy.run(run_step, args=(data,))\n    /home/skycam/venv3.6/lib/python3.6/site-packages/tensorflow/python/distribute/distribute_lib.py:1259 run\n        return self._extended.call_for_each_replica(fn, args=args, kwargs=kwargs)\n    /home/skycam/venv3.6/lib/python3.6/site-packages/tensorflow/python/distribute/distribute_lib.py:2730 call_for_each_replica\n        return self._call_for_each_replica(fn, args, kwargs)\n    /home/skycam/venv3.6/lib/python3.6/site-packages/tensorflow/python/distribute/distribute_lib.py:3417 _call_for_each_replica\n        return fn(*args, **kwargs)\n    /home/skycam/venv3.6/lib/python3.6/site-packages/tensorflow/python/keras/engine/training.py:1461 run_step  **\n        outputs = model.predict_step(data)\n    /home/skycam/venv3.6/lib/python3.6/site-packages/tensorflow/python/keras/engine/training.py:1434 predict_step\n        return self(x, training=False)\n    /home/skycam/venv3.6/lib/python3.6/site-packages/tensorflow/python/keras/engine/base_layer.py:998 __call__\n        input_spec.assert_input_compatibility(self.input_spec, inputs, self.name)\n    /home/skycam/venv3.6/lib/python3.6/site-packages/tensorflow/python/keras/engine/input_spec.py:274 assert_input_compatibility\n        ', found shape=' + display_shape(x.shape))\n\n    ValueError: Input 0 is incompatible with layer model: expected shape=(None, 49, 81), found shape=(None, 49, 82)\n",
     "output_type": "error",
     "traceback": [
      "\u001b[0;31m---------------------------------------------------------------------------\u001b[0m",
      "\u001b[0;31mValueError\u001b[0m                                Traceback (most recent call last)",
      "\u001b[0;32m<ipython-input-27-9d2610f3e331>\u001b[0m in \u001b[0;36m<module>\u001b[0;34m\u001b[0m\n\u001b[0;32m----> 1\u001b[0;31m \u001b[0mtrain_pred_detrend\u001b[0m \u001b[0;34m=\u001b[0m \u001b[0mmodel\u001b[0m\u001b[0;34m.\u001b[0m\u001b[0mpredict\u001b[0m\u001b[0;34m(\u001b[0m\u001b[0mX_input_train\u001b[0m\u001b[0;34m[\u001b[0m\u001b[0;34m:\u001b[0m\u001b[0;34m,\u001b[0m \u001b[0;34m:\u001b[0m\u001b[0;34m,\u001b[0m \u001b[0;34m:\u001b[0m\u001b[0;34m]\u001b[0m\u001b[0;34m)\u001b[0m\u001b[0;31m#*x_train_max[:]\u001b[0m\u001b[0;34m\u001b[0m\u001b[0;34m\u001b[0m\u001b[0m\n\u001b[0m\u001b[1;32m      2\u001b[0m \u001b[0mtest_pred_detrend\u001b[0m \u001b[0;34m=\u001b[0m \u001b[0mmodel\u001b[0m\u001b[0;34m.\u001b[0m\u001b[0mpredict\u001b[0m\u001b[0;34m(\u001b[0m\u001b[0mX_input_test\u001b[0m\u001b[0;34m[\u001b[0m\u001b[0;34m:\u001b[0m\u001b[0;34m,\u001b[0m \u001b[0;34m:\u001b[0m\u001b[0;34m,\u001b[0m \u001b[0;34m:\u001b[0m\u001b[0;34m]\u001b[0m\u001b[0;34m)\u001b[0m\u001b[0;31m#*x_train_max[:]\u001b[0m\u001b[0;34m\u001b[0m\u001b[0;34m\u001b[0m\u001b[0m\n\u001b[1;32m      3\u001b[0m \u001b[0mprint\u001b[0m\u001b[0;34m(\u001b[0m\u001b[0mtrain_pred_detrend\u001b[0m\u001b[0;34m.\u001b[0m\u001b[0mshape\u001b[0m\u001b[0;34m,\u001b[0m \u001b[0mtest_pred_detrend\u001b[0m\u001b[0;34m.\u001b[0m\u001b[0mshape\u001b[0m\u001b[0;34m)\u001b[0m\u001b[0;34m\u001b[0m\u001b[0;34m\u001b[0m\u001b[0m\n\u001b[1;32m      4\u001b[0m \u001b[0;34m\u001b[0m\u001b[0m\n\u001b[1;32m      5\u001b[0m \u001b[0mtrain_true_detrend\u001b[0m \u001b[0;34m=\u001b[0m \u001b[0mX_output_train\u001b[0m\u001b[0;34m[\u001b[0m\u001b[0;34m:\u001b[0m\u001b[0;34m,\u001b[0m \u001b[0;34m:\u001b[0m\u001b[0;34m,\u001b[0m \u001b[0;34m:\u001b[0m\u001b[0;34m]\u001b[0m\u001b[0;34m*\u001b[0m\u001b[0mx_train_max\u001b[0m\u001b[0;34m[\u001b[0m\u001b[0;34m:\u001b[0m\u001b[0;34m]\u001b[0m\u001b[0;34m\u001b[0m\u001b[0;34m\u001b[0m\u001b[0m\n",
      "\u001b[0;32m~/venv3.6/lib/python3.6/site-packages/tensorflow/python/keras/engine/training.py\u001b[0m in \u001b[0;36mpredict\u001b[0;34m(self, x, batch_size, verbose, steps, callbacks, max_queue_size, workers, use_multiprocessing)\u001b[0m\n\u001b[1;32m   1627\u001b[0m           \u001b[0;32mfor\u001b[0m \u001b[0mstep\u001b[0m \u001b[0;32min\u001b[0m \u001b[0mdata_handler\u001b[0m\u001b[0;34m.\u001b[0m\u001b[0msteps\u001b[0m\u001b[0;34m(\u001b[0m\u001b[0;34m)\u001b[0m\u001b[0;34m:\u001b[0m\u001b[0;34m\u001b[0m\u001b[0;34m\u001b[0m\u001b[0m\n\u001b[1;32m   1628\u001b[0m             \u001b[0mcallbacks\u001b[0m\u001b[0;34m.\u001b[0m\u001b[0mon_predict_batch_begin\u001b[0m\u001b[0;34m(\u001b[0m\u001b[0mstep\u001b[0m\u001b[0;34m)\u001b[0m\u001b[0;34m\u001b[0m\u001b[0;34m\u001b[0m\u001b[0m\n\u001b[0;32m-> 1629\u001b[0;31m             \u001b[0mtmp_batch_outputs\u001b[0m \u001b[0;34m=\u001b[0m \u001b[0mself\u001b[0m\u001b[0;34m.\u001b[0m\u001b[0mpredict_function\u001b[0m\u001b[0;34m(\u001b[0m\u001b[0miterator\u001b[0m\u001b[0;34m)\u001b[0m\u001b[0;34m\u001b[0m\u001b[0;34m\u001b[0m\u001b[0m\n\u001b[0m\u001b[1;32m   1630\u001b[0m             \u001b[0;32mif\u001b[0m \u001b[0mdata_handler\u001b[0m\u001b[0;34m.\u001b[0m\u001b[0mshould_sync\u001b[0m\u001b[0;34m:\u001b[0m\u001b[0;34m\u001b[0m\u001b[0;34m\u001b[0m\u001b[0m\n\u001b[1;32m   1631\u001b[0m               \u001b[0mcontext\u001b[0m\u001b[0;34m.\u001b[0m\u001b[0masync_wait\u001b[0m\u001b[0;34m(\u001b[0m\u001b[0;34m)\u001b[0m\u001b[0;34m\u001b[0m\u001b[0;34m\u001b[0m\u001b[0m\n",
      "\u001b[0;32m~/venv3.6/lib/python3.6/site-packages/tensorflow/python/eager/def_function.py\u001b[0m in \u001b[0;36m__call__\u001b[0;34m(self, *args, **kwds)\u001b[0m\n\u001b[1;32m    826\u001b[0m     \u001b[0mtracing_count\u001b[0m \u001b[0;34m=\u001b[0m \u001b[0mself\u001b[0m\u001b[0;34m.\u001b[0m\u001b[0mexperimental_get_tracing_count\u001b[0m\u001b[0;34m(\u001b[0m\u001b[0;34m)\u001b[0m\u001b[0;34m\u001b[0m\u001b[0;34m\u001b[0m\u001b[0m\n\u001b[1;32m    827\u001b[0m     \u001b[0;32mwith\u001b[0m \u001b[0mtrace\u001b[0m\u001b[0;34m.\u001b[0m\u001b[0mTrace\u001b[0m\u001b[0;34m(\u001b[0m\u001b[0mself\u001b[0m\u001b[0;34m.\u001b[0m\u001b[0m_name\u001b[0m\u001b[0;34m)\u001b[0m \u001b[0;32mas\u001b[0m \u001b[0mtm\u001b[0m\u001b[0;34m:\u001b[0m\u001b[0;34m\u001b[0m\u001b[0;34m\u001b[0m\u001b[0m\n\u001b[0;32m--> 828\u001b[0;31m       \u001b[0mresult\u001b[0m \u001b[0;34m=\u001b[0m \u001b[0mself\u001b[0m\u001b[0;34m.\u001b[0m\u001b[0m_call\u001b[0m\u001b[0;34m(\u001b[0m\u001b[0;34m*\u001b[0m\u001b[0margs\u001b[0m\u001b[0;34m,\u001b[0m \u001b[0;34m**\u001b[0m\u001b[0mkwds\u001b[0m\u001b[0;34m)\u001b[0m\u001b[0;34m\u001b[0m\u001b[0;34m\u001b[0m\u001b[0m\n\u001b[0m\u001b[1;32m    829\u001b[0m       \u001b[0mcompiler\u001b[0m \u001b[0;34m=\u001b[0m \u001b[0;34m\"xla\"\u001b[0m \u001b[0;32mif\u001b[0m \u001b[0mself\u001b[0m\u001b[0;34m.\u001b[0m\u001b[0m_experimental_compile\u001b[0m \u001b[0;32melse\u001b[0m \u001b[0;34m\"nonXla\"\u001b[0m\u001b[0;34m\u001b[0m\u001b[0;34m\u001b[0m\u001b[0m\n\u001b[1;32m    830\u001b[0m       \u001b[0mnew_tracing_count\u001b[0m \u001b[0;34m=\u001b[0m \u001b[0mself\u001b[0m\u001b[0;34m.\u001b[0m\u001b[0mexperimental_get_tracing_count\u001b[0m\u001b[0;34m(\u001b[0m\u001b[0;34m)\u001b[0m\u001b[0;34m\u001b[0m\u001b[0;34m\u001b[0m\u001b[0m\n",
      "\u001b[0;32m~/venv3.6/lib/python3.6/site-packages/tensorflow/python/eager/def_function.py\u001b[0m in \u001b[0;36m_call\u001b[0;34m(self, *args, **kwds)\u001b[0m\n\u001b[1;32m    860\u001b[0m       \u001b[0;31m# In this case we have not created variables on the first call. So we can\u001b[0m\u001b[0;34m\u001b[0m\u001b[0;34m\u001b[0m\u001b[0;34m\u001b[0m\u001b[0m\n\u001b[1;32m    861\u001b[0m       \u001b[0;31m# run the first trace but we should fail if variables are created.\u001b[0m\u001b[0;34m\u001b[0m\u001b[0;34m\u001b[0m\u001b[0;34m\u001b[0m\u001b[0m\n\u001b[0;32m--> 862\u001b[0;31m       \u001b[0mresults\u001b[0m \u001b[0;34m=\u001b[0m \u001b[0mself\u001b[0m\u001b[0;34m.\u001b[0m\u001b[0m_stateful_fn\u001b[0m\u001b[0;34m(\u001b[0m\u001b[0;34m*\u001b[0m\u001b[0margs\u001b[0m\u001b[0;34m,\u001b[0m \u001b[0;34m**\u001b[0m\u001b[0mkwds\u001b[0m\u001b[0;34m)\u001b[0m\u001b[0;34m\u001b[0m\u001b[0;34m\u001b[0m\u001b[0m\n\u001b[0m\u001b[1;32m    863\u001b[0m       \u001b[0;32mif\u001b[0m \u001b[0mself\u001b[0m\u001b[0;34m.\u001b[0m\u001b[0m_created_variables\u001b[0m\u001b[0;34m:\u001b[0m\u001b[0;34m\u001b[0m\u001b[0;34m\u001b[0m\u001b[0m\n\u001b[1;32m    864\u001b[0m         raise ValueError(\"Creating variables on a non-first call to a function\"\n",
      "\u001b[0;32m~/venv3.6/lib/python3.6/site-packages/tensorflow/python/eager/function.py\u001b[0m in \u001b[0;36m__call__\u001b[0;34m(self, *args, **kwargs)\u001b[0m\n\u001b[1;32m   2939\u001b[0m     \u001b[0;32mwith\u001b[0m \u001b[0mself\u001b[0m\u001b[0;34m.\u001b[0m\u001b[0m_lock\u001b[0m\u001b[0;34m:\u001b[0m\u001b[0;34m\u001b[0m\u001b[0;34m\u001b[0m\u001b[0m\n\u001b[1;32m   2940\u001b[0m       (graph_function,\n\u001b[0;32m-> 2941\u001b[0;31m        filtered_flat_args) = self._maybe_define_function(args, kwargs)\n\u001b[0m\u001b[1;32m   2942\u001b[0m     return graph_function._call_flat(\n\u001b[1;32m   2943\u001b[0m         filtered_flat_args, captured_inputs=graph_function.captured_inputs)  # pylint: disable=protected-access\n",
      "\u001b[0;32m~/venv3.6/lib/python3.6/site-packages/tensorflow/python/eager/function.py\u001b[0m in \u001b[0;36m_maybe_define_function\u001b[0;34m(self, args, kwargs)\u001b[0m\n\u001b[1;32m   3356\u001b[0m               call_context_key in self._function_cache.missed):\n\u001b[1;32m   3357\u001b[0m             return self._define_function_with_shape_relaxation(\n\u001b[0;32m-> 3358\u001b[0;31m                 args, kwargs, flat_args, filtered_flat_args, cache_key_context)\n\u001b[0m\u001b[1;32m   3359\u001b[0m \u001b[0;34m\u001b[0m\u001b[0m\n\u001b[1;32m   3360\u001b[0m           \u001b[0mself\u001b[0m\u001b[0;34m.\u001b[0m\u001b[0m_function_cache\u001b[0m\u001b[0;34m.\u001b[0m\u001b[0mmissed\u001b[0m\u001b[0;34m.\u001b[0m\u001b[0madd\u001b[0m\u001b[0;34m(\u001b[0m\u001b[0mcall_context_key\u001b[0m\u001b[0;34m)\u001b[0m\u001b[0;34m\u001b[0m\u001b[0;34m\u001b[0m\u001b[0m\n",
      "\u001b[0;32m~/venv3.6/lib/python3.6/site-packages/tensorflow/python/eager/function.py\u001b[0m in \u001b[0;36m_define_function_with_shape_relaxation\u001b[0;34m(self, args, kwargs, flat_args, filtered_flat_args, cache_key_context)\u001b[0m\n\u001b[1;32m   3278\u001b[0m \u001b[0;34m\u001b[0m\u001b[0m\n\u001b[1;32m   3279\u001b[0m     graph_function = self._create_graph_function(\n\u001b[0;32m-> 3280\u001b[0;31m         args, kwargs, override_flat_arg_shapes=relaxed_arg_shapes)\n\u001b[0m\u001b[1;32m   3281\u001b[0m     \u001b[0mself\u001b[0m\u001b[0;34m.\u001b[0m\u001b[0m_function_cache\u001b[0m\u001b[0;34m.\u001b[0m\u001b[0marg_relaxed\u001b[0m\u001b[0;34m[\u001b[0m\u001b[0mrank_only_cache_key\u001b[0m\u001b[0;34m]\u001b[0m \u001b[0;34m=\u001b[0m \u001b[0mgraph_function\u001b[0m\u001b[0;34m\u001b[0m\u001b[0;34m\u001b[0m\u001b[0m\n\u001b[1;32m   3282\u001b[0m \u001b[0;34m\u001b[0m\u001b[0m\n",
      "\u001b[0;32m~/venv3.6/lib/python3.6/site-packages/tensorflow/python/eager/function.py\u001b[0m in \u001b[0;36m_create_graph_function\u001b[0;34m(self, args, kwargs, override_flat_arg_shapes)\u001b[0m\n\u001b[1;32m   3204\u001b[0m             \u001b[0marg_names\u001b[0m\u001b[0;34m=\u001b[0m\u001b[0marg_names\u001b[0m\u001b[0;34m,\u001b[0m\u001b[0;34m\u001b[0m\u001b[0;34m\u001b[0m\u001b[0m\n\u001b[1;32m   3205\u001b[0m             \u001b[0moverride_flat_arg_shapes\u001b[0m\u001b[0;34m=\u001b[0m\u001b[0moverride_flat_arg_shapes\u001b[0m\u001b[0;34m,\u001b[0m\u001b[0;34m\u001b[0m\u001b[0;34m\u001b[0m\u001b[0m\n\u001b[0;32m-> 3206\u001b[0;31m             capture_by_value=self._capture_by_value),\n\u001b[0m\u001b[1;32m   3207\u001b[0m         \u001b[0mself\u001b[0m\u001b[0;34m.\u001b[0m\u001b[0m_function_attributes\u001b[0m\u001b[0;34m,\u001b[0m\u001b[0;34m\u001b[0m\u001b[0;34m\u001b[0m\u001b[0m\n\u001b[1;32m   3208\u001b[0m         \u001b[0mfunction_spec\u001b[0m\u001b[0;34m=\u001b[0m\u001b[0mself\u001b[0m\u001b[0;34m.\u001b[0m\u001b[0mfunction_spec\u001b[0m\u001b[0;34m,\u001b[0m\u001b[0;34m\u001b[0m\u001b[0;34m\u001b[0m\u001b[0m\n",
      "\u001b[0;32m~/venv3.6/lib/python3.6/site-packages/tensorflow/python/framework/func_graph.py\u001b[0m in \u001b[0;36mfunc_graph_from_py_func\u001b[0;34m(name, python_func, args, kwargs, signature, func_graph, autograph, autograph_options, add_control_dependencies, arg_names, op_return_value, collections, capture_by_value, override_flat_arg_shapes)\u001b[0m\n\u001b[1;32m    988\u001b[0m         \u001b[0m_\u001b[0m\u001b[0;34m,\u001b[0m \u001b[0moriginal_func\u001b[0m \u001b[0;34m=\u001b[0m \u001b[0mtf_decorator\u001b[0m\u001b[0;34m.\u001b[0m\u001b[0munwrap\u001b[0m\u001b[0;34m(\u001b[0m\u001b[0mpython_func\u001b[0m\u001b[0;34m)\u001b[0m\u001b[0;34m\u001b[0m\u001b[0;34m\u001b[0m\u001b[0m\n\u001b[1;32m    989\u001b[0m \u001b[0;34m\u001b[0m\u001b[0m\n\u001b[0;32m--> 990\u001b[0;31m       \u001b[0mfunc_outputs\u001b[0m \u001b[0;34m=\u001b[0m \u001b[0mpython_func\u001b[0m\u001b[0;34m(\u001b[0m\u001b[0;34m*\u001b[0m\u001b[0mfunc_args\u001b[0m\u001b[0;34m,\u001b[0m \u001b[0;34m**\u001b[0m\u001b[0mfunc_kwargs\u001b[0m\u001b[0;34m)\u001b[0m\u001b[0;34m\u001b[0m\u001b[0;34m\u001b[0m\u001b[0m\n\u001b[0m\u001b[1;32m    991\u001b[0m \u001b[0;34m\u001b[0m\u001b[0m\n\u001b[1;32m    992\u001b[0m       \u001b[0;31m# invariant: `func_outputs` contains only Tensors, CompositeTensors,\u001b[0m\u001b[0;34m\u001b[0m\u001b[0;34m\u001b[0m\u001b[0;34m\u001b[0m\u001b[0m\n",
      "\u001b[0;32m~/venv3.6/lib/python3.6/site-packages/tensorflow/python/eager/def_function.py\u001b[0m in \u001b[0;36mwrapped_fn\u001b[0;34m(*args, **kwds)\u001b[0m\n\u001b[1;32m    632\u001b[0m             \u001b[0mxla_context\u001b[0m\u001b[0;34m.\u001b[0m\u001b[0mExit\u001b[0m\u001b[0;34m(\u001b[0m\u001b[0;34m)\u001b[0m\u001b[0;34m\u001b[0m\u001b[0;34m\u001b[0m\u001b[0m\n\u001b[1;32m    633\u001b[0m         \u001b[0;32melse\u001b[0m\u001b[0;34m:\u001b[0m\u001b[0;34m\u001b[0m\u001b[0;34m\u001b[0m\u001b[0m\n\u001b[0;32m--> 634\u001b[0;31m           \u001b[0mout\u001b[0m \u001b[0;34m=\u001b[0m \u001b[0mweak_wrapped_fn\u001b[0m\u001b[0;34m(\u001b[0m\u001b[0;34m)\u001b[0m\u001b[0;34m.\u001b[0m\u001b[0m__wrapped__\u001b[0m\u001b[0;34m(\u001b[0m\u001b[0;34m*\u001b[0m\u001b[0margs\u001b[0m\u001b[0;34m,\u001b[0m \u001b[0;34m**\u001b[0m\u001b[0mkwds\u001b[0m\u001b[0;34m)\u001b[0m\u001b[0;34m\u001b[0m\u001b[0;34m\u001b[0m\u001b[0m\n\u001b[0m\u001b[1;32m    635\u001b[0m         \u001b[0;32mreturn\u001b[0m \u001b[0mout\u001b[0m\u001b[0;34m\u001b[0m\u001b[0;34m\u001b[0m\u001b[0m\n\u001b[1;32m    636\u001b[0m \u001b[0;34m\u001b[0m\u001b[0m\n",
      "\u001b[0;32m~/venv3.6/lib/python3.6/site-packages/tensorflow/python/framework/func_graph.py\u001b[0m in \u001b[0;36mwrapper\u001b[0;34m(*args, **kwargs)\u001b[0m\n\u001b[1;32m    975\u001b[0m           \u001b[0;32mexcept\u001b[0m \u001b[0mException\u001b[0m \u001b[0;32mas\u001b[0m \u001b[0me\u001b[0m\u001b[0;34m:\u001b[0m  \u001b[0;31m# pylint:disable=broad-except\u001b[0m\u001b[0;34m\u001b[0m\u001b[0;34m\u001b[0m\u001b[0m\n\u001b[1;32m    976\u001b[0m             \u001b[0;32mif\u001b[0m \u001b[0mhasattr\u001b[0m\u001b[0;34m(\u001b[0m\u001b[0me\u001b[0m\u001b[0;34m,\u001b[0m \u001b[0;34m\"ag_error_metadata\"\u001b[0m\u001b[0;34m)\u001b[0m\u001b[0;34m:\u001b[0m\u001b[0;34m\u001b[0m\u001b[0;34m\u001b[0m\u001b[0m\n\u001b[0;32m--> 977\u001b[0;31m               \u001b[0;32mraise\u001b[0m \u001b[0me\u001b[0m\u001b[0;34m.\u001b[0m\u001b[0mag_error_metadata\u001b[0m\u001b[0;34m.\u001b[0m\u001b[0mto_exception\u001b[0m\u001b[0;34m(\u001b[0m\u001b[0me\u001b[0m\u001b[0;34m)\u001b[0m\u001b[0;34m\u001b[0m\u001b[0;34m\u001b[0m\u001b[0m\n\u001b[0m\u001b[1;32m    978\u001b[0m             \u001b[0;32melse\u001b[0m\u001b[0;34m:\u001b[0m\u001b[0;34m\u001b[0m\u001b[0;34m\u001b[0m\u001b[0m\n\u001b[1;32m    979\u001b[0m               \u001b[0;32mraise\u001b[0m\u001b[0;34m\u001b[0m\u001b[0;34m\u001b[0m\u001b[0m\n",
      "\u001b[0;31mValueError\u001b[0m: in user code:\n\n    /home/skycam/venv3.6/lib/python3.6/site-packages/tensorflow/python/keras/engine/training.py:1478 predict_function  *\n        return step_function(self, iterator)\n    /home/skycam/venv3.6/lib/python3.6/site-packages/tensorflow/python/keras/engine/training.py:1468 step_function  **\n        outputs = model.distribute_strategy.run(run_step, args=(data,))\n    /home/skycam/venv3.6/lib/python3.6/site-packages/tensorflow/python/distribute/distribute_lib.py:1259 run\n        return self._extended.call_for_each_replica(fn, args=args, kwargs=kwargs)\n    /home/skycam/venv3.6/lib/python3.6/site-packages/tensorflow/python/distribute/distribute_lib.py:2730 call_for_each_replica\n        return self._call_for_each_replica(fn, args, kwargs)\n    /home/skycam/venv3.6/lib/python3.6/site-packages/tensorflow/python/distribute/distribute_lib.py:3417 _call_for_each_replica\n        return fn(*args, **kwargs)\n    /home/skycam/venv3.6/lib/python3.6/site-packages/tensorflow/python/keras/engine/training.py:1461 run_step  **\n        outputs = model.predict_step(data)\n    /home/skycam/venv3.6/lib/python3.6/site-packages/tensorflow/python/keras/engine/training.py:1434 predict_step\n        return self(x, training=False)\n    /home/skycam/venv3.6/lib/python3.6/site-packages/tensorflow/python/keras/engine/base_layer.py:998 __call__\n        input_spec.assert_input_compatibility(self.input_spec, inputs, self.name)\n    /home/skycam/venv3.6/lib/python3.6/site-packages/tensorflow/python/keras/engine/input_spec.py:274 assert_input_compatibility\n        ', found shape=' + display_shape(x.shape))\n\n    ValueError: Input 0 is incompatible with layer model: expected shape=(None, 49, 81), found shape=(None, 49, 82)\n"
     ]
    }
   ],
   "source": [
    "train_pred_detrend = model.predict(X_input_train[:, :, :])#*x_train_max[:]\n",
    "test_pred_detrend = model.predict(X_input_test[:, :, :])#*x_train_max[:]\n",
    "print(train_pred_detrend.shape, test_pred_detrend.shape)\n",
    "\n",
    "train_true_detrend = X_output_train[:, :, :]*x_train_max[:]\n",
    "test_true_detrend = X_output_test[:, :, :]*x_train_max[:]\n",
    "print(train_pred_detrend.shape, test_pred_detrend.shape)"
   ]
  },
  {
   "cell_type": "code",
   "execution_count": null,
   "metadata": {
    "scrolled": true
   },
   "outputs": [],
   "source": [
    "for lb in ['train', 'test']:\n",
    "    plt.figure(figsize=(15, 4))\n",
    "    plt.hist(data_final[lb+'_pred'].flatten(), bins=100, color='orange', alpha=0.5, label=lb+' pred')\n",
    "    plt.hist(data_final[lb+'_true'].flatten(), bins=100, color='green', alpha=0.5, label=lb+' true')\n",
    "    plt.legend()\n",
    "    plt.title('value distribution: '+lb)\n",
    "    plt.show()"
   ]
  },
  {
   "cell_type": "code",
   "execution_count": null,
   "metadata": {
    "scrolled": true
   },
   "outputs": [],
   "source": [
    "for lb in ['train', 'test']:\n",
    "    MAE_overall = abs(data_final[lb+'_pred'] - data_final[lb+'_true']).mean()\n",
    "    MAE_ = abs(data_final[lb+'_pred'] - data_final[lb+'_true']).mean(axis=(1, 2))\n",
    "    plt.figure(figsize=(15, 3))\n",
    "    plt.plot(MAE_)\n",
    "    plt.title('MAE '+lb+': overall MAE = '+str(MAE_overall))\n",
    "    plt.show() "
   ]
  },
  {
   "cell_type": "code",
   "execution_count": null,
   "metadata": {
    "scrolled": true
   },
   "outputs": [],
   "source": [
    "for lb in ['train', 'test']:\n",
    "    ith_sample = random.choice(range(data_final[lb+'_pred'].shape[0]))\n",
    "\n",
    "    plt.figure(figsize=(15,3))\n",
    "    for i, x_lbl, clr in zip([0, 1], ['x1', 'x2'], ['green', 'blue']):\n",
    "        plt.plot(data_final[lb+'_pred'][ith_sample, :, i], linestyle='--', color=clr, label='pred '+x_lbl)\n",
    "        plt.plot(data_final[lb+'_true'][ith_sample, :, i], linestyle='-', color=clr, label='true '+x_lbl)\n",
    "    plt.title('({}): {}th sample'.format(lb, ith_sample))\n",
    "    plt.legend(loc='upper center', bbox_to_anchor=(0.5, -0.15), fancybox=True, shadow=False, ncol=2)\n",
    "    plt.show()"
   ]
  },
  {
   "cell_type": "code",
   "execution_count": null,
   "metadata": {
    "scrolled": false
   },
   "outputs": [],
   "source": [
    "ith_timestep = random.choice(range(data_final[lb+'_pred'].shape[1]))\n",
    "for lb in ['train', 'test']:   \n",
    "    plt.figure(figsize=(15, 5))\n",
    "    for i, x_lbl, clr in zip([0, 1], ['x1', 'x2'], ['green', 'blue']):\n",
    "        plt.plot(data_final[lb+'_pred'][:, ith_timestep, i], linestyle='--', color=clr, label='pred '+x_lbl)\n",
    "        plt.plot(data_final[lb+'_true'][:, ith_timestep, i], linestyle='-', color=clr, label='true '+x_lbl)\n",
    "    plt.title('({}): {}th time step in all samples'.format(lb, ith_timestep))\n",
    "    plt.legend(loc='upper center', bbox_to_anchor=(0.5, -0.15), fancybox=True, shadow=False, ncol=2)\n",
    "    plt.show()\n"
   ]
  },
  {
   "cell_type": "code",
   "execution_count": null,
   "metadata": {
    "scrolled": false
   },
   "outputs": [],
   "source": [
    "plt.figure(figsize=(15, 5))\n",
    "train_start_t = 0\n",
    "test_start_t = data_final['train_pred'].shape[0]\n",
    "for lb, tm, clrs in zip(['train', 'test'], [train_start_t, test_start_t], [['green', 'red'], ['blue', 'orange']]):\n",
    "    for i, x_lbl in zip([0, 1], ['x1', 'x2']):\n",
    "        plt.plot(range(tm, tm+data_final[lb+'_pred'].shape[0]), \n",
    "                 data_final[lb+'_pred'][:, ith_timestep, i], \n",
    "                 linestyle='--', linewidth=1, color=clrs[0], label='pred '+x_lbl)\n",
    "        plt.plot(range(tm, tm+data_final[lb+'_pred'].shape[0]), \n",
    "                 data_final[lb+'_true'][:, ith_timestep, i], \n",
    "                 linestyle='-', linewidth=1, color=clrs[1], label='true '+x_lbl)\n",
    "    \n",
    "    \n",
    "plt.title('{}th time step in all samples'.format(lb, ith_timestep))\n",
    "plt.legend(loc='upper center', bbox_to_anchor=(0.5, -0.15), fancybox=True, shadow=False, ncol=8)\n",
    "plt.show()"
   ]
  },
  {
   "cell_type": "code",
   "execution_count": null,
   "metadata": {},
   "outputs": [],
   "source": []
  },
  {
   "cell_type": "code",
   "execution_count": null,
   "metadata": {},
   "outputs": [],
   "source": []
  },
  {
   "cell_type": "code",
   "execution_count": null,
   "metadata": {},
   "outputs": [],
   "source": []
  }
 ],
 "metadata": {
  "kernelspec": {
   "display_name": "Python 3",
   "language": "python",
   "name": "python3"
  },
  "language_info": {
   "codemirror_mode": {
    "name": "ipython",
    "version": 3
   },
   "file_extension": ".py",
   "mimetype": "text/x-python",
   "name": "python",
   "nbconvert_exporter": "python",
   "pygments_lexer": "ipython3",
   "version": "3.6.9"
  }
 },
 "nbformat": 4,
 "nbformat_minor": 2
}
